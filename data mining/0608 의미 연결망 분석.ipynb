{
 "cells": [
  {
   "cell_type": "markdown",
   "id": "89915ebf",
   "metadata": {},
   "source": [
    "# 의미 연결망 분석(Semantic Network Analysis)"
   ]
  },
  {
   "cell_type": "markdown",
   "id": "d97f7ab2",
   "metadata": {},
   "source": [
    "- 사회 연결망 분석 기법을 텍스트 내 단어의 관계에 적용\n",
    "- 의미 연결망 분석에서는 일정한 범위 내에서 어휘가 동시에 등장하면 서로 연결된 것으로 간주, 이 연결 관계들을 분석"
   ]
  },
  {
   "cell_type": "markdown",
   "id": "bb23f6a1",
   "metadata": {},
   "source": [
    "## n-gram"
   ]
  },
  {
   "cell_type": "markdown",
   "id": "730a9d66",
   "metadata": {},
   "source": [
    "- 단어의 앞, 뒤 단어를 함께 묶어서 n개 토큰화\n",
    "- n-gram을 생성할 수 있는 함수를 제공"
   ]
  },
  {
   "cell_type": "code",
   "execution_count": 1,
   "id": "a72fb454",
   "metadata": {},
   "outputs": [
    {
     "name": "stderr",
     "output_type": "stream",
     "text": [
      "[nltk_data] Downloading package punkt to\n",
      "[nltk_data]     C:\\Users\\USER\\AppData\\Roaming\\nltk_data...\n",
      "[nltk_data]   Unzipping tokenizers\\punkt.zip.\n"
     ]
    },
    {
     "data": {
      "text/plain": [
       "True"
      ]
     },
     "execution_count": 1,
     "metadata": {},
     "output_type": "execute_result"
    }
   ],
   "source": [
    "import nltk\n",
    "nltk.download('punkt')"
   ]
  },
  {
   "cell_type": "code",
   "execution_count": 2,
   "id": "292646ca",
   "metadata": {},
   "outputs": [
    {
     "name": "stdout",
     "output_type": "stream",
     "text": [
      "[('I', 'love'), ('love', 'data'), ('data', 'science'), ('science', 'and'), ('and', 'deep'), ('deep', 'learning')]\n"
     ]
    }
   ],
   "source": [
    "from nltk import word_tokenize, bigrams\n",
    "\n",
    "sentence = 'I love data science and deep learning'\n",
    "tokens = word_tokenize(sentence) \n",
    "\n",
    "bgram = bigrams(tokens)\n",
    "bgram_list = [x for x in bgram]\n",
    "\n",
    "print(bgram_list)"
   ]
  },
  {
   "cell_type": "code",
   "execution_count": 3,
   "id": "ecce9d7d",
   "metadata": {},
   "outputs": [
    {
     "name": "stdout",
     "output_type": "stream",
     "text": [
      "[('I', 'love', 'data'), ('love', 'data', 'science'), ('data', 'science', 'and'), ('science', 'and', 'deep'), ('and', 'deep', 'learning')]\n",
      "[('I', 'love', 'data', 'science'), ('love', 'data', 'science', 'and'), ('data', 'science', 'and', 'deep'), ('science', 'and', 'deep', 'learning')]\n"
     ]
    }
   ],
   "source": [
    "from nltk.util import ngrams \n",
    "\n",
    "tgram = ngrams(tokens, 3)\n",
    "qgram = ngrams(tokens, 4) \n",
    "\n",
    "tgram_list = [x for x in tgram]\n",
    "qgram_list = [x for x in qgram] \n",
    "\n",
    "print(tgram_list)\n",
    "print(qgram_list)"
   ]
  },
  {
   "cell_type": "markdown",
   "id": "e3981c07",
   "metadata": {},
   "source": [
    "# 어휘 동시 출현 빈도의 계수화"
   ]
  },
  {
   "cell_type": "markdown",
   "id": "50f99d3e",
   "metadata": {},
   "source": [
    "- 동시 출현(Co-occurrence)란 두 개 이상의 어휘가 일정한 범위나 거리 내에서 함께 출현하는 것을 의미\n",
    "- 단어간의 동시 출현 관계를 분석하면 문서나 문장으로부터 두 단어가 유사한 의미를 가졌는지 등의 추상화된 정보를 얻을 수 있음\n",
    "- 동시 출현 빈도는 Window라는 지정 범위 내에서 동시 등장한 어휘를 확률 등으로 계수화 가능\n",
    "- 어휘 동시 출현 빈도 행렬은 하나하나 측정할 수도 있지만, 바이그램 개수를 정리하면 편리하게 만들어 볼 수 있음\n",
    "- nltk에서 제공하는 ConditionalFreqDist함수를 이용하면 문맥별 단어 빈도를 쉽게 측정 가능"
   ]
  },
  {
   "cell_type": "code",
   "execution_count": 4,
   "id": "a717a4a5",
   "metadata": {},
   "outputs": [
    {
     "data": {
      "text/plain": [
       "['SS',\n",
       " 'I',\n",
       " 'love',\n",
       " 'data',\n",
       " 'science',\n",
       " 'and',\n",
       " 'deep',\n",
       " 'learning',\n",
       " 'know',\n",
       " 'this',\n",
       " 'code']"
      ]
     },
     "execution_count": 4,
     "metadata": {},
     "output_type": "execute_result"
    }
   ],
   "source": [
    "from nltk import ConditionalFreqDist\n",
    "\n",
    "sentences = ['I love data science and deep learning', 'I love science', 'I know this code']\n",
    "tokens = [word_tokenize(x) for x in sentences]\n",
    "bgrams = [bigrams(x, pad_left=True, pad_right=True, \n",
    "                  left_pad_symbol=\"SS\", right_pad_symbol=\"SE\") for x in tokens] \n",
    "token = []\n",
    "for i in bgrams: \n",
    "    token += ([x for x in i]) \n",
    "    \n",
    "cfd = ConditionalFreqDist(token)\n",
    "cfd.conditions() "
   ]
  },
  {
   "cell_type": "code",
   "execution_count": 5,
   "id": "295de2f8",
   "metadata": {},
   "outputs": [
    {
     "name": "stdout",
     "output_type": "stream",
     "text": [
      "<FreqDist with 2 samples and 3 outcomes>\n"
     ]
    }
   ],
   "source": [
    "print(cfd['I'])"
   ]
  },
  {
   "cell_type": "code",
   "execution_count": 6,
   "id": "f72cc709",
   "metadata": {},
   "outputs": [
    {
     "name": "stdout",
     "output_type": "stream",
     "text": [
      "2\n"
     ]
    }
   ],
   "source": [
    "print(cfd['I']['love'])"
   ]
  },
  {
   "cell_type": "code",
   "execution_count": 7,
   "id": "bd341eea",
   "metadata": {},
   "outputs": [
    {
     "name": "stdout",
     "output_type": "stream",
     "text": [
      "[('love', 2)]\n"
     ]
    }
   ],
   "source": [
    "print(cfd['I'].most_common(1))"
   ]
  },
  {
   "cell_type": "code",
   "execution_count": 10,
   "id": "70f8ada2",
   "metadata": {},
   "outputs": [
    {
     "name": "stdout",
     "output_type": "stream",
     "text": [
      "dict_keys(['SS', 'I', 'love', 'data', 'science', 'and', 'deep', 'learning', 'know', 'this', 'code'])\n",
      "[[0 3 0 0 0 0 0 0 0 0 0]\n",
      " [0 0 2 0 0 0 0 0 1 0 0]\n",
      " [0 0 0 1 1 0 0 0 0 0 0]\n",
      " [0 0 0 0 1 0 0 0 0 0 0]\n",
      " [0 0 0 0 0 1 0 0 0 0 0]\n",
      " [0 0 0 0 0 0 1 0 0 0 0]\n",
      " [0 0 0 0 0 0 0 1 0 0 0]\n",
      " [0 0 0 0 0 0 0 0 0 0 0]\n",
      " [0 0 0 0 0 0 0 0 0 1 0]\n",
      " [0 0 0 0 0 0 0 0 0 0 1]\n",
      " [0 0 0 0 0 0 0 0 0 0 0]]\n"
     ]
    }
   ],
   "source": [
    "import numpy as np\n",
    "\n",
    "freq_matrix = []\n",
    "\n",
    "for i in cfd.keys():\n",
    "    temp = []\n",
    "    for j in cfd.keys():\n",
    "        temp.append(cfd[i][j])\n",
    "    freq_matrix.append(temp)\n",
    "freq_matrix = np.array(freq_matrix)\n",
    "    \n",
    "print(cfd.keys())\n",
    "print(freq_matrix)"
   ]
  },
  {
   "cell_type": "code",
   "execution_count": 11,
   "id": "61d263f1",
   "metadata": {},
   "outputs": [
    {
     "data": {
      "text/html": [
       "<style type=\"text/css\">\n",
       "#T_40589_row0_col0, #T_40589_row0_col2, #T_40589_row0_col3, #T_40589_row0_col4, #T_40589_row0_col5, #T_40589_row0_col6, #T_40589_row0_col7, #T_40589_row0_col8, #T_40589_row0_col9, #T_40589_row0_col10, #T_40589_row1_col0, #T_40589_row1_col1, #T_40589_row1_col3, #T_40589_row1_col4, #T_40589_row1_col5, #T_40589_row1_col6, #T_40589_row1_col7, #T_40589_row1_col9, #T_40589_row1_col10, #T_40589_row2_col0, #T_40589_row2_col1, #T_40589_row2_col2, #T_40589_row2_col5, #T_40589_row2_col6, #T_40589_row2_col7, #T_40589_row2_col8, #T_40589_row2_col9, #T_40589_row2_col10, #T_40589_row3_col0, #T_40589_row3_col1, #T_40589_row3_col2, #T_40589_row3_col3, #T_40589_row3_col5, #T_40589_row3_col6, #T_40589_row3_col7, #T_40589_row3_col8, #T_40589_row3_col9, #T_40589_row3_col10, #T_40589_row4_col0, #T_40589_row4_col1, #T_40589_row4_col2, #T_40589_row4_col3, #T_40589_row4_col4, #T_40589_row4_col6, #T_40589_row4_col7, #T_40589_row4_col8, #T_40589_row4_col9, #T_40589_row4_col10, #T_40589_row5_col0, #T_40589_row5_col1, #T_40589_row5_col2, #T_40589_row5_col3, #T_40589_row5_col4, #T_40589_row5_col5, #T_40589_row5_col7, #T_40589_row5_col8, #T_40589_row5_col9, #T_40589_row5_col10, #T_40589_row6_col0, #T_40589_row6_col1, #T_40589_row6_col2, #T_40589_row6_col3, #T_40589_row6_col4, #T_40589_row6_col5, #T_40589_row6_col6, #T_40589_row6_col8, #T_40589_row6_col9, #T_40589_row6_col10, #T_40589_row7_col0, #T_40589_row7_col1, #T_40589_row7_col2, #T_40589_row7_col3, #T_40589_row7_col4, #T_40589_row7_col5, #T_40589_row7_col6, #T_40589_row7_col7, #T_40589_row7_col8, #T_40589_row7_col9, #T_40589_row7_col10, #T_40589_row8_col0, #T_40589_row8_col1, #T_40589_row8_col2, #T_40589_row8_col3, #T_40589_row8_col4, #T_40589_row8_col5, #T_40589_row8_col6, #T_40589_row8_col7, #T_40589_row8_col8, #T_40589_row8_col10, #T_40589_row9_col0, #T_40589_row9_col1, #T_40589_row9_col2, #T_40589_row9_col3, #T_40589_row9_col4, #T_40589_row9_col5, #T_40589_row9_col6, #T_40589_row9_col7, #T_40589_row9_col8, #T_40589_row9_col9, #T_40589_row10_col0, #T_40589_row10_col1, #T_40589_row10_col2, #T_40589_row10_col3, #T_40589_row10_col4, #T_40589_row10_col5, #T_40589_row10_col6, #T_40589_row10_col7, #T_40589_row10_col8, #T_40589_row10_col9, #T_40589_row10_col10 {\n",
       "  background-color: #3b4cc0;\n",
       "  color: #f1f1f1;\n",
       "}\n",
       "#T_40589_row0_col1, #T_40589_row1_col2, #T_40589_row1_col8, #T_40589_row2_col3, #T_40589_row2_col4, #T_40589_row3_col4, #T_40589_row4_col5, #T_40589_row5_col6, #T_40589_row6_col7, #T_40589_row8_col9, #T_40589_row9_col10 {\n",
       "  background-color: #b40426;\n",
       "  color: #f1f1f1;\n",
       "}\n",
       "</style>\n",
       "<table id=\"T_40589_\">\n",
       "  <thead>\n",
       "    <tr>\n",
       "      <th class=\"blank level0\" >&nbsp;</th>\n",
       "      <th class=\"col_heading level0 col0\" >SS</th>\n",
       "      <th class=\"col_heading level0 col1\" >I</th>\n",
       "      <th class=\"col_heading level0 col2\" >love</th>\n",
       "      <th class=\"col_heading level0 col3\" >data</th>\n",
       "      <th class=\"col_heading level0 col4\" >science</th>\n",
       "      <th class=\"col_heading level0 col5\" >and</th>\n",
       "      <th class=\"col_heading level0 col6\" >deep</th>\n",
       "      <th class=\"col_heading level0 col7\" >learning</th>\n",
       "      <th class=\"col_heading level0 col8\" >know</th>\n",
       "      <th class=\"col_heading level0 col9\" >this</th>\n",
       "      <th class=\"col_heading level0 col10\" >code</th>\n",
       "    </tr>\n",
       "  </thead>\n",
       "  <tbody>\n",
       "    <tr>\n",
       "      <th id=\"T_40589_level0_row0\" class=\"row_heading level0 row0\" >SS</th>\n",
       "      <td id=\"T_40589_row0_col0\" class=\"data row0 col0\" >0</td>\n",
       "      <td id=\"T_40589_row0_col1\" class=\"data row0 col1\" >3</td>\n",
       "      <td id=\"T_40589_row0_col2\" class=\"data row0 col2\" >0</td>\n",
       "      <td id=\"T_40589_row0_col3\" class=\"data row0 col3\" >0</td>\n",
       "      <td id=\"T_40589_row0_col4\" class=\"data row0 col4\" >0</td>\n",
       "      <td id=\"T_40589_row0_col5\" class=\"data row0 col5\" >0</td>\n",
       "      <td id=\"T_40589_row0_col6\" class=\"data row0 col6\" >0</td>\n",
       "      <td id=\"T_40589_row0_col7\" class=\"data row0 col7\" >0</td>\n",
       "      <td id=\"T_40589_row0_col8\" class=\"data row0 col8\" >0</td>\n",
       "      <td id=\"T_40589_row0_col9\" class=\"data row0 col9\" >0</td>\n",
       "      <td id=\"T_40589_row0_col10\" class=\"data row0 col10\" >0</td>\n",
       "    </tr>\n",
       "    <tr>\n",
       "      <th id=\"T_40589_level0_row1\" class=\"row_heading level0 row1\" >I</th>\n",
       "      <td id=\"T_40589_row1_col0\" class=\"data row1 col0\" >0</td>\n",
       "      <td id=\"T_40589_row1_col1\" class=\"data row1 col1\" >0</td>\n",
       "      <td id=\"T_40589_row1_col2\" class=\"data row1 col2\" >2</td>\n",
       "      <td id=\"T_40589_row1_col3\" class=\"data row1 col3\" >0</td>\n",
       "      <td id=\"T_40589_row1_col4\" class=\"data row1 col4\" >0</td>\n",
       "      <td id=\"T_40589_row1_col5\" class=\"data row1 col5\" >0</td>\n",
       "      <td id=\"T_40589_row1_col6\" class=\"data row1 col6\" >0</td>\n",
       "      <td id=\"T_40589_row1_col7\" class=\"data row1 col7\" >0</td>\n",
       "      <td id=\"T_40589_row1_col8\" class=\"data row1 col8\" >1</td>\n",
       "      <td id=\"T_40589_row1_col9\" class=\"data row1 col9\" >0</td>\n",
       "      <td id=\"T_40589_row1_col10\" class=\"data row1 col10\" >0</td>\n",
       "    </tr>\n",
       "    <tr>\n",
       "      <th id=\"T_40589_level0_row2\" class=\"row_heading level0 row2\" >love</th>\n",
       "      <td id=\"T_40589_row2_col0\" class=\"data row2 col0\" >0</td>\n",
       "      <td id=\"T_40589_row2_col1\" class=\"data row2 col1\" >0</td>\n",
       "      <td id=\"T_40589_row2_col2\" class=\"data row2 col2\" >0</td>\n",
       "      <td id=\"T_40589_row2_col3\" class=\"data row2 col3\" >1</td>\n",
       "      <td id=\"T_40589_row2_col4\" class=\"data row2 col4\" >1</td>\n",
       "      <td id=\"T_40589_row2_col5\" class=\"data row2 col5\" >0</td>\n",
       "      <td id=\"T_40589_row2_col6\" class=\"data row2 col6\" >0</td>\n",
       "      <td id=\"T_40589_row2_col7\" class=\"data row2 col7\" >0</td>\n",
       "      <td id=\"T_40589_row2_col8\" class=\"data row2 col8\" >0</td>\n",
       "      <td id=\"T_40589_row2_col9\" class=\"data row2 col9\" >0</td>\n",
       "      <td id=\"T_40589_row2_col10\" class=\"data row2 col10\" >0</td>\n",
       "    </tr>\n",
       "    <tr>\n",
       "      <th id=\"T_40589_level0_row3\" class=\"row_heading level0 row3\" >data</th>\n",
       "      <td id=\"T_40589_row3_col0\" class=\"data row3 col0\" >0</td>\n",
       "      <td id=\"T_40589_row3_col1\" class=\"data row3 col1\" >0</td>\n",
       "      <td id=\"T_40589_row3_col2\" class=\"data row3 col2\" >0</td>\n",
       "      <td id=\"T_40589_row3_col3\" class=\"data row3 col3\" >0</td>\n",
       "      <td id=\"T_40589_row3_col4\" class=\"data row3 col4\" >1</td>\n",
       "      <td id=\"T_40589_row3_col5\" class=\"data row3 col5\" >0</td>\n",
       "      <td id=\"T_40589_row3_col6\" class=\"data row3 col6\" >0</td>\n",
       "      <td id=\"T_40589_row3_col7\" class=\"data row3 col7\" >0</td>\n",
       "      <td id=\"T_40589_row3_col8\" class=\"data row3 col8\" >0</td>\n",
       "      <td id=\"T_40589_row3_col9\" class=\"data row3 col9\" >0</td>\n",
       "      <td id=\"T_40589_row3_col10\" class=\"data row3 col10\" >0</td>\n",
       "    </tr>\n",
       "    <tr>\n",
       "      <th id=\"T_40589_level0_row4\" class=\"row_heading level0 row4\" >science</th>\n",
       "      <td id=\"T_40589_row4_col0\" class=\"data row4 col0\" >0</td>\n",
       "      <td id=\"T_40589_row4_col1\" class=\"data row4 col1\" >0</td>\n",
       "      <td id=\"T_40589_row4_col2\" class=\"data row4 col2\" >0</td>\n",
       "      <td id=\"T_40589_row4_col3\" class=\"data row4 col3\" >0</td>\n",
       "      <td id=\"T_40589_row4_col4\" class=\"data row4 col4\" >0</td>\n",
       "      <td id=\"T_40589_row4_col5\" class=\"data row4 col5\" >1</td>\n",
       "      <td id=\"T_40589_row4_col6\" class=\"data row4 col6\" >0</td>\n",
       "      <td id=\"T_40589_row4_col7\" class=\"data row4 col7\" >0</td>\n",
       "      <td id=\"T_40589_row4_col8\" class=\"data row4 col8\" >0</td>\n",
       "      <td id=\"T_40589_row4_col9\" class=\"data row4 col9\" >0</td>\n",
       "      <td id=\"T_40589_row4_col10\" class=\"data row4 col10\" >0</td>\n",
       "    </tr>\n",
       "    <tr>\n",
       "      <th id=\"T_40589_level0_row5\" class=\"row_heading level0 row5\" >and</th>\n",
       "      <td id=\"T_40589_row5_col0\" class=\"data row5 col0\" >0</td>\n",
       "      <td id=\"T_40589_row5_col1\" class=\"data row5 col1\" >0</td>\n",
       "      <td id=\"T_40589_row5_col2\" class=\"data row5 col2\" >0</td>\n",
       "      <td id=\"T_40589_row5_col3\" class=\"data row5 col3\" >0</td>\n",
       "      <td id=\"T_40589_row5_col4\" class=\"data row5 col4\" >0</td>\n",
       "      <td id=\"T_40589_row5_col5\" class=\"data row5 col5\" >0</td>\n",
       "      <td id=\"T_40589_row5_col6\" class=\"data row5 col6\" >1</td>\n",
       "      <td id=\"T_40589_row5_col7\" class=\"data row5 col7\" >0</td>\n",
       "      <td id=\"T_40589_row5_col8\" class=\"data row5 col8\" >0</td>\n",
       "      <td id=\"T_40589_row5_col9\" class=\"data row5 col9\" >0</td>\n",
       "      <td id=\"T_40589_row5_col10\" class=\"data row5 col10\" >0</td>\n",
       "    </tr>\n",
       "    <tr>\n",
       "      <th id=\"T_40589_level0_row6\" class=\"row_heading level0 row6\" >deep</th>\n",
       "      <td id=\"T_40589_row6_col0\" class=\"data row6 col0\" >0</td>\n",
       "      <td id=\"T_40589_row6_col1\" class=\"data row6 col1\" >0</td>\n",
       "      <td id=\"T_40589_row6_col2\" class=\"data row6 col2\" >0</td>\n",
       "      <td id=\"T_40589_row6_col3\" class=\"data row6 col3\" >0</td>\n",
       "      <td id=\"T_40589_row6_col4\" class=\"data row6 col4\" >0</td>\n",
       "      <td id=\"T_40589_row6_col5\" class=\"data row6 col5\" >0</td>\n",
       "      <td id=\"T_40589_row6_col6\" class=\"data row6 col6\" >0</td>\n",
       "      <td id=\"T_40589_row6_col7\" class=\"data row6 col7\" >1</td>\n",
       "      <td id=\"T_40589_row6_col8\" class=\"data row6 col8\" >0</td>\n",
       "      <td id=\"T_40589_row6_col9\" class=\"data row6 col9\" >0</td>\n",
       "      <td id=\"T_40589_row6_col10\" class=\"data row6 col10\" >0</td>\n",
       "    </tr>\n",
       "    <tr>\n",
       "      <th id=\"T_40589_level0_row7\" class=\"row_heading level0 row7\" >learning</th>\n",
       "      <td id=\"T_40589_row7_col0\" class=\"data row7 col0\" >0</td>\n",
       "      <td id=\"T_40589_row7_col1\" class=\"data row7 col1\" >0</td>\n",
       "      <td id=\"T_40589_row7_col2\" class=\"data row7 col2\" >0</td>\n",
       "      <td id=\"T_40589_row7_col3\" class=\"data row7 col3\" >0</td>\n",
       "      <td id=\"T_40589_row7_col4\" class=\"data row7 col4\" >0</td>\n",
       "      <td id=\"T_40589_row7_col5\" class=\"data row7 col5\" >0</td>\n",
       "      <td id=\"T_40589_row7_col6\" class=\"data row7 col6\" >0</td>\n",
       "      <td id=\"T_40589_row7_col7\" class=\"data row7 col7\" >0</td>\n",
       "      <td id=\"T_40589_row7_col8\" class=\"data row7 col8\" >0</td>\n",
       "      <td id=\"T_40589_row7_col9\" class=\"data row7 col9\" >0</td>\n",
       "      <td id=\"T_40589_row7_col10\" class=\"data row7 col10\" >0</td>\n",
       "    </tr>\n",
       "    <tr>\n",
       "      <th id=\"T_40589_level0_row8\" class=\"row_heading level0 row8\" >know</th>\n",
       "      <td id=\"T_40589_row8_col0\" class=\"data row8 col0\" >0</td>\n",
       "      <td id=\"T_40589_row8_col1\" class=\"data row8 col1\" >0</td>\n",
       "      <td id=\"T_40589_row8_col2\" class=\"data row8 col2\" >0</td>\n",
       "      <td id=\"T_40589_row8_col3\" class=\"data row8 col3\" >0</td>\n",
       "      <td id=\"T_40589_row8_col4\" class=\"data row8 col4\" >0</td>\n",
       "      <td id=\"T_40589_row8_col5\" class=\"data row8 col5\" >0</td>\n",
       "      <td id=\"T_40589_row8_col6\" class=\"data row8 col6\" >0</td>\n",
       "      <td id=\"T_40589_row8_col7\" class=\"data row8 col7\" >0</td>\n",
       "      <td id=\"T_40589_row8_col8\" class=\"data row8 col8\" >0</td>\n",
       "      <td id=\"T_40589_row8_col9\" class=\"data row8 col9\" >1</td>\n",
       "      <td id=\"T_40589_row8_col10\" class=\"data row8 col10\" >0</td>\n",
       "    </tr>\n",
       "    <tr>\n",
       "      <th id=\"T_40589_level0_row9\" class=\"row_heading level0 row9\" >this</th>\n",
       "      <td id=\"T_40589_row9_col0\" class=\"data row9 col0\" >0</td>\n",
       "      <td id=\"T_40589_row9_col1\" class=\"data row9 col1\" >0</td>\n",
       "      <td id=\"T_40589_row9_col2\" class=\"data row9 col2\" >0</td>\n",
       "      <td id=\"T_40589_row9_col3\" class=\"data row9 col3\" >0</td>\n",
       "      <td id=\"T_40589_row9_col4\" class=\"data row9 col4\" >0</td>\n",
       "      <td id=\"T_40589_row9_col5\" class=\"data row9 col5\" >0</td>\n",
       "      <td id=\"T_40589_row9_col6\" class=\"data row9 col6\" >0</td>\n",
       "      <td id=\"T_40589_row9_col7\" class=\"data row9 col7\" >0</td>\n",
       "      <td id=\"T_40589_row9_col8\" class=\"data row9 col8\" >0</td>\n",
       "      <td id=\"T_40589_row9_col9\" class=\"data row9 col9\" >0</td>\n",
       "      <td id=\"T_40589_row9_col10\" class=\"data row9 col10\" >1</td>\n",
       "    </tr>\n",
       "    <tr>\n",
       "      <th id=\"T_40589_level0_row10\" class=\"row_heading level0 row10\" >code</th>\n",
       "      <td id=\"T_40589_row10_col0\" class=\"data row10 col0\" >0</td>\n",
       "      <td id=\"T_40589_row10_col1\" class=\"data row10 col1\" >0</td>\n",
       "      <td id=\"T_40589_row10_col2\" class=\"data row10 col2\" >0</td>\n",
       "      <td id=\"T_40589_row10_col3\" class=\"data row10 col3\" >0</td>\n",
       "      <td id=\"T_40589_row10_col4\" class=\"data row10 col4\" >0</td>\n",
       "      <td id=\"T_40589_row10_col5\" class=\"data row10 col5\" >0</td>\n",
       "      <td id=\"T_40589_row10_col6\" class=\"data row10 col6\" >0</td>\n",
       "      <td id=\"T_40589_row10_col7\" class=\"data row10 col7\" >0</td>\n",
       "      <td id=\"T_40589_row10_col8\" class=\"data row10 col8\" >0</td>\n",
       "      <td id=\"T_40589_row10_col9\" class=\"data row10 col9\" >0</td>\n",
       "      <td id=\"T_40589_row10_col10\" class=\"data row10 col10\" >0</td>\n",
       "    </tr>\n",
       "  </tbody>\n",
       "</table>\n"
      ],
      "text/plain": [
       "<pandas.io.formats.style.Styler at 0x17a6e747be0>"
      ]
     },
     "execution_count": 11,
     "metadata": {},
     "output_type": "execute_result"
    }
   ],
   "source": [
    "import pandas as pd \n",
    "\n",
    "df = pd.DataFrame(freq_matrix, index=cfd.keys(), columns=cfd.keys())\n",
    "df.style.background_gradient(cmap='coolwarm')"
   ]
  },
  {
   "cell_type": "code",
   "execution_count": 12,
   "id": "fbde2543",
   "metadata": {},
   "outputs": [
    {
     "name": "stdout",
     "output_type": "stream",
     "text": [
      "['SS', 'I', 'love', 'data', 'science', 'and', 'deep', 'learning', 'know', 'this', 'code']\n",
      "[('SS', 'I'), ('I', 'love'), ('I', 'know'), ('love', 'data'), ('love', 'science'), ('data', 'science'), ('science', 'and'), ('and', 'deep'), ('deep', 'learning'), ('know', 'this'), ('this', 'code')]\n"
     ]
    }
   ],
   "source": [
    "import networkx as nx\n",
    "\n",
    "G = nx.from_pandas_adjacency(df)\n",
    "\n",
    "print(G.nodes())\n",
    "print(G.edges())"
   ]
  },
  {
   "cell_type": "code",
   "execution_count": 13,
   "id": "92118c5e",
   "metadata": {},
   "outputs": [
    {
     "name": "stdout",
     "output_type": "stream",
     "text": [
      "{'weight': 2}\n",
      "{'weight': 1}\n"
     ]
    }
   ],
   "source": [
    "print(G.edges()[('I', 'love')])\n",
    "print(G.edges()[('I', 'know')])"
   ]
  },
  {
   "cell_type": "code",
   "execution_count": 14,
   "id": "7877d7c0",
   "metadata": {},
   "outputs": [
    {
     "data": {
      "image/png": "[encoded data removed]",
      "text/plain": [
       "<Figure size 432x288 with 1 Axes>"
      ]
     },
     "metadata": {},
     "output_type": "display_data"
    }
   ],
   "source": [
    "nx.draw(G,with_labels=True)"
   ]
  },
  {
   "cell_type": "markdown",
   "id": "263b54e3",
   "metadata": {},
   "source": [
    "# 조건부확률 추정"
   ]
  },
  {
   "cell_type": "markdown",
   "id": "427c6815",
   "metadata": {},
   "source": [
    "- 어휘 동시 출현 빈도를 이용하면 어휘 동시 출현 확률까지 측정 가능\n",
    "- 어휘 동시 출현 확률 계산에는 nltk의 ConditionalProbDist를 이용"
   ]
  },
  {
   "cell_type": "code",
   "execution_count": 16,
   "id": "a8908afe",
   "metadata": {},
   "outputs": [
    {
     "data": {
      "text/plain": [
       "['SS',\n",
       " 'I',\n",
       " 'love',\n",
       " 'data',\n",
       " 'science',\n",
       " 'and',\n",
       " 'deep',\n",
       " 'learning',\n",
       " 'know',\n",
       " 'this',\n",
       " 'code']"
      ]
     },
     "execution_count": 16,
     "metadata": {},
     "output_type": "execute_result"
    }
   ],
   "source": [
    "from nltk.probability import ConditionalProbDist, MLEProbDist\n",
    "\n",
    "cpd = ConditionalProbDist(cfd, MLEProbDist)\n",
    "cpd.conditions()"
   ]
  },
  {
   "cell_type": "code",
   "execution_count": 17,
   "id": "4b8bc359",
   "metadata": {},
   "outputs": [
    {
     "name": "stdout",
     "output_type": "stream",
     "text": [
      "dict_keys(['SS', 'I', 'love', 'data', 'science', 'and', 'deep', 'learning', 'know', 'this', 'code'])\n",
      "[[0.         1.         0.         0.         0.         0.\n",
      "  0.         0.         0.         0.         0.        ]\n",
      " [0.         0.         0.66666667 0.         0.         0.\n",
      "  0.         0.         0.33333333 0.         0.        ]\n",
      " [0.         0.         0.         0.5        0.5        0.\n",
      "  0.         0.         0.         0.         0.        ]\n",
      " [0.         0.         0.         0.         1.         0.\n",
      "  0.         0.         0.         0.         0.        ]\n",
      " [0.         0.         0.         0.         0.         0.5\n",
      "  0.         0.         0.         0.         0.        ]\n",
      " [0.         0.         0.         0.         0.         0.\n",
      "  1.         0.         0.         0.         0.        ]\n",
      " [0.         0.         0.         0.         0.         0.\n",
      "  0.         1.         0.         0.         0.        ]\n",
      " [0.         0.         0.         0.         0.         0.\n",
      "  0.         0.         0.         0.         0.        ]\n",
      " [0.         0.         0.         0.         0.         0.\n",
      "  0.         0.         0.         1.         0.        ]\n",
      " [0.         0.         0.         0.         0.         0.\n",
      "  0.         0.         0.         0.         1.        ]\n",
      " [0.         0.         0.         0.         0.         0.\n",
      "  0.         0.         0.         0.         0.        ]]\n"
     ]
    }
   ],
   "source": [
    "prob_matrix = [] \n",
    "\n",
    "for i in cpd.keys(): \n",
    "    prob_matrix.append([cpd[i].prob(j) for j in cpd.keys()]) \n",
    "    \n",
    "prob_matrix = np.array(prob_matrix)\n",
    "\n",
    "print(cpd.keys())\n",
    "print(prob_matrix)"
   ]
  },
  {
   "cell_type": "code",
   "execution_count": 18,
   "id": "c46395fd",
   "metadata": {},
   "outputs": [
    {
     "data": {
      "text/html": [
       "<style type=\"text/css\">\n",
       "#T_94e9c_row0_col0, #T_94e9c_row0_col2, #T_94e9c_row0_col3, #T_94e9c_row0_col4, #T_94e9c_row0_col5, #T_94e9c_row0_col6, #T_94e9c_row0_col7, #T_94e9c_row0_col8, #T_94e9c_row0_col9, #T_94e9c_row0_col10, #T_94e9c_row1_col0, #T_94e9c_row1_col1, #T_94e9c_row1_col3, #T_94e9c_row1_col4, #T_94e9c_row1_col5, #T_94e9c_row1_col6, #T_94e9c_row1_col7, #T_94e9c_row1_col9, #T_94e9c_row1_col10, #T_94e9c_row2_col0, #T_94e9c_row2_col1, #T_94e9c_row2_col2, #T_94e9c_row2_col5, #T_94e9c_row2_col6, #T_94e9c_row2_col7, #T_94e9c_row2_col8, #T_94e9c_row2_col9, #T_94e9c_row2_col10, #T_94e9c_row3_col0, #T_94e9c_row3_col1, #T_94e9c_row3_col2, #T_94e9c_row3_col3, #T_94e9c_row3_col5, #T_94e9c_row3_col6, #T_94e9c_row3_col7, #T_94e9c_row3_col8, #T_94e9c_row3_col9, #T_94e9c_row3_col10, #T_94e9c_row4_col0, #T_94e9c_row4_col1, #T_94e9c_row4_col2, #T_94e9c_row4_col3, #T_94e9c_row4_col4, #T_94e9c_row4_col6, #T_94e9c_row4_col7, #T_94e9c_row4_col8, #T_94e9c_row4_col9, #T_94e9c_row4_col10, #T_94e9c_row5_col0, #T_94e9c_row5_col1, #T_94e9c_row5_col2, #T_94e9c_row5_col3, #T_94e9c_row5_col4, #T_94e9c_row5_col5, #T_94e9c_row5_col7, #T_94e9c_row5_col8, #T_94e9c_row5_col9, #T_94e9c_row5_col10, #T_94e9c_row6_col0, #T_94e9c_row6_col1, #T_94e9c_row6_col2, #T_94e9c_row6_col3, #T_94e9c_row6_col4, #T_94e9c_row6_col5, #T_94e9c_row6_col6, #T_94e9c_row6_col8, #T_94e9c_row6_col9, #T_94e9c_row6_col10, #T_94e9c_row7_col0, #T_94e9c_row7_col1, #T_94e9c_row7_col2, #T_94e9c_row7_col3, #T_94e9c_row7_col4, #T_94e9c_row7_col5, #T_94e9c_row7_col6, #T_94e9c_row7_col7, #T_94e9c_row7_col8, #T_94e9c_row7_col9, #T_94e9c_row7_col10, #T_94e9c_row8_col0, #T_94e9c_row8_col1, #T_94e9c_row8_col2, #T_94e9c_row8_col3, #T_94e9c_row8_col4, #T_94e9c_row8_col5, #T_94e9c_row8_col6, #T_94e9c_row8_col7, #T_94e9c_row8_col8, #T_94e9c_row8_col10, #T_94e9c_row9_col0, #T_94e9c_row9_col1, #T_94e9c_row9_col2, #T_94e9c_row9_col3, #T_94e9c_row9_col4, #T_94e9c_row9_col5, #T_94e9c_row9_col6, #T_94e9c_row9_col7, #T_94e9c_row9_col8, #T_94e9c_row9_col9, #T_94e9c_row10_col0, #T_94e9c_row10_col1, #T_94e9c_row10_col2, #T_94e9c_row10_col3, #T_94e9c_row10_col4, #T_94e9c_row10_col5, #T_94e9c_row10_col6, #T_94e9c_row10_col7, #T_94e9c_row10_col8, #T_94e9c_row10_col9, #T_94e9c_row10_col10 {\n",
       "  background-color: #3b4cc0;\n",
       "  color: #f1f1f1;\n",
       "}\n",
       "#T_94e9c_row0_col1, #T_94e9c_row1_col2, #T_94e9c_row1_col8, #T_94e9c_row2_col3, #T_94e9c_row3_col4, #T_94e9c_row4_col5, #T_94e9c_row5_col6, #T_94e9c_row6_col7, #T_94e9c_row8_col9, #T_94e9c_row9_col10 {\n",
       "  background-color: #b40426;\n",
       "  color: #f1f1f1;\n",
       "}\n",
       "#T_94e9c_row2_col4 {\n",
       "  background-color: #dddcdc;\n",
       "  color: #000000;\n",
       "}\n",
       "</style>\n",
       "<table id=\"T_94e9c_\">\n",
       "  <thead>\n",
       "    <tr>\n",
       "      <th class=\"blank level0\" >&nbsp;</th>\n",
       "      <th class=\"col_heading level0 col0\" >SS</th>\n",
       "      <th class=\"col_heading level0 col1\" >I</th>\n",
       "      <th class=\"col_heading level0 col2\" >love</th>\n",
       "      <th class=\"col_heading level0 col3\" >data</th>\n",
       "      <th class=\"col_heading level0 col4\" >science</th>\n",
       "      <th class=\"col_heading level0 col5\" >and</th>\n",
       "      <th class=\"col_heading level0 col6\" >deep</th>\n",
       "      <th class=\"col_heading level0 col7\" >learning</th>\n",
       "      <th class=\"col_heading level0 col8\" >know</th>\n",
       "      <th class=\"col_heading level0 col9\" >this</th>\n",
       "      <th class=\"col_heading level0 col10\" >code</th>\n",
       "    </tr>\n",
       "  </thead>\n",
       "  <tbody>\n",
       "    <tr>\n",
       "      <th id=\"T_94e9c_level0_row0\" class=\"row_heading level0 row0\" >SS</th>\n",
       "      <td id=\"T_94e9c_row0_col0\" class=\"data row0 col0\" >0.000000</td>\n",
       "      <td id=\"T_94e9c_row0_col1\" class=\"data row0 col1\" >1.000000</td>\n",
       "      <td id=\"T_94e9c_row0_col2\" class=\"data row0 col2\" >0.000000</td>\n",
       "      <td id=\"T_94e9c_row0_col3\" class=\"data row0 col3\" >0.000000</td>\n",
       "      <td id=\"T_94e9c_row0_col4\" class=\"data row0 col4\" >0.000000</td>\n",
       "      <td id=\"T_94e9c_row0_col5\" class=\"data row0 col5\" >0.000000</td>\n",
       "      <td id=\"T_94e9c_row0_col6\" class=\"data row0 col6\" >0.000000</td>\n",
       "      <td id=\"T_94e9c_row0_col7\" class=\"data row0 col7\" >0.000000</td>\n",
       "      <td id=\"T_94e9c_row0_col8\" class=\"data row0 col8\" >0.000000</td>\n",
       "      <td id=\"T_94e9c_row0_col9\" class=\"data row0 col9\" >0.000000</td>\n",
       "      <td id=\"T_94e9c_row0_col10\" class=\"data row0 col10\" >0.000000</td>\n",
       "    </tr>\n",
       "    <tr>\n",
       "      <th id=\"T_94e9c_level0_row1\" class=\"row_heading level0 row1\" >I</th>\n",
       "      <td id=\"T_94e9c_row1_col0\" class=\"data row1 col0\" >0.000000</td>\n",
       "      <td id=\"T_94e9c_row1_col1\" class=\"data row1 col1\" >0.000000</td>\n",
       "      <td id=\"T_94e9c_row1_col2\" class=\"data row1 col2\" >0.666667</td>\n",
       "      <td id=\"T_94e9c_row1_col3\" class=\"data row1 col3\" >0.000000</td>\n",
       "      <td id=\"T_94e9c_row1_col4\" class=\"data row1 col4\" >0.000000</td>\n",
       "      <td id=\"T_94e9c_row1_col5\" class=\"data row1 col5\" >0.000000</td>\n",
       "      <td id=\"T_94e9c_row1_col6\" class=\"data row1 col6\" >0.000000</td>\n",
       "      <td id=\"T_94e9c_row1_col7\" class=\"data row1 col7\" >0.000000</td>\n",
       "      <td id=\"T_94e9c_row1_col8\" class=\"data row1 col8\" >0.333333</td>\n",
       "      <td id=\"T_94e9c_row1_col9\" class=\"data row1 col9\" >0.000000</td>\n",
       "      <td id=\"T_94e9c_row1_col10\" class=\"data row1 col10\" >0.000000</td>\n",
       "    </tr>\n",
       "    <tr>\n",
       "      <th id=\"T_94e9c_level0_row2\" class=\"row_heading level0 row2\" >love</th>\n",
       "      <td id=\"T_94e9c_row2_col0\" class=\"data row2 col0\" >0.000000</td>\n",
       "      <td id=\"T_94e9c_row2_col1\" class=\"data row2 col1\" >0.000000</td>\n",
       "      <td id=\"T_94e9c_row2_col2\" class=\"data row2 col2\" >0.000000</td>\n",
       "      <td id=\"T_94e9c_row2_col3\" class=\"data row2 col3\" >0.500000</td>\n",
       "      <td id=\"T_94e9c_row2_col4\" class=\"data row2 col4\" >0.500000</td>\n",
       "      <td id=\"T_94e9c_row2_col5\" class=\"data row2 col5\" >0.000000</td>\n",
       "      <td id=\"T_94e9c_row2_col6\" class=\"data row2 col6\" >0.000000</td>\n",
       "      <td id=\"T_94e9c_row2_col7\" class=\"data row2 col7\" >0.000000</td>\n",
       "      <td id=\"T_94e9c_row2_col8\" class=\"data row2 col8\" >0.000000</td>\n",
       "      <td id=\"T_94e9c_row2_col9\" class=\"data row2 col9\" >0.000000</td>\n",
       "      <td id=\"T_94e9c_row2_col10\" class=\"data row2 col10\" >0.000000</td>\n",
       "    </tr>\n",
       "    <tr>\n",
       "      <th id=\"T_94e9c_level0_row3\" class=\"row_heading level0 row3\" >data</th>\n",
       "      <td id=\"T_94e9c_row3_col0\" class=\"data row3 col0\" >0.000000</td>\n",
       "      <td id=\"T_94e9c_row3_col1\" class=\"data row3 col1\" >0.000000</td>\n",
       "      <td id=\"T_94e9c_row3_col2\" class=\"data row3 col2\" >0.000000</td>\n",
       "      <td id=\"T_94e9c_row3_col3\" class=\"data row3 col3\" >0.000000</td>\n",
       "      <td id=\"T_94e9c_row3_col4\" class=\"data row3 col4\" >1.000000</td>\n",
       "      <td id=\"T_94e9c_row3_col5\" class=\"data row3 col5\" >0.000000</td>\n",
       "      <td id=\"T_94e9c_row3_col6\" class=\"data row3 col6\" >0.000000</td>\n",
       "      <td id=\"T_94e9c_row3_col7\" class=\"data row3 col7\" >0.000000</td>\n",
       "      <td id=\"T_94e9c_row3_col8\" class=\"data row3 col8\" >0.000000</td>\n",
       "      <td id=\"T_94e9c_row3_col9\" class=\"data row3 col9\" >0.000000</td>\n",
       "      <td id=\"T_94e9c_row3_col10\" class=\"data row3 col10\" >0.000000</td>\n",
       "    </tr>\n",
       "    <tr>\n",
       "      <th id=\"T_94e9c_level0_row4\" class=\"row_heading level0 row4\" >science</th>\n",
       "      <td id=\"T_94e9c_row4_col0\" class=\"data row4 col0\" >0.000000</td>\n",
       "      <td id=\"T_94e9c_row4_col1\" class=\"data row4 col1\" >0.000000</td>\n",
       "      <td id=\"T_94e9c_row4_col2\" class=\"data row4 col2\" >0.000000</td>\n",
       "      <td id=\"T_94e9c_row4_col3\" class=\"data row4 col3\" >0.000000</td>\n",
       "      <td id=\"T_94e9c_row4_col4\" class=\"data row4 col4\" >0.000000</td>\n",
       "      <td id=\"T_94e9c_row4_col5\" class=\"data row4 col5\" >0.500000</td>\n",
       "      <td id=\"T_94e9c_row4_col6\" class=\"data row4 col6\" >0.000000</td>\n",
       "      <td id=\"T_94e9c_row4_col7\" class=\"data row4 col7\" >0.000000</td>\n",
       "      <td id=\"T_94e9c_row4_col8\" class=\"data row4 col8\" >0.000000</td>\n",
       "      <td id=\"T_94e9c_row4_col9\" class=\"data row4 col9\" >0.000000</td>\n",
       "      <td id=\"T_94e9c_row4_col10\" class=\"data row4 col10\" >0.000000</td>\n",
       "    </tr>\n",
       "    <tr>\n",
       "      <th id=\"T_94e9c_level0_row5\" class=\"row_heading level0 row5\" >and</th>\n",
       "      <td id=\"T_94e9c_row5_col0\" class=\"data row5 col0\" >0.000000</td>\n",
       "      <td id=\"T_94e9c_row5_col1\" class=\"data row5 col1\" >0.000000</td>\n",
       "      <td id=\"T_94e9c_row5_col2\" class=\"data row5 col2\" >0.000000</td>\n",
       "      <td id=\"T_94e9c_row5_col3\" class=\"data row5 col3\" >0.000000</td>\n",
       "      <td id=\"T_94e9c_row5_col4\" class=\"data row5 col4\" >0.000000</td>\n",
       "      <td id=\"T_94e9c_row5_col5\" class=\"data row5 col5\" >0.000000</td>\n",
       "      <td id=\"T_94e9c_row5_col6\" class=\"data row5 col6\" >1.000000</td>\n",
       "      <td id=\"T_94e9c_row5_col7\" class=\"data row5 col7\" >0.000000</td>\n",
       "      <td id=\"T_94e9c_row5_col8\" class=\"data row5 col8\" >0.000000</td>\n",
       "      <td id=\"T_94e9c_row5_col9\" class=\"data row5 col9\" >0.000000</td>\n",
       "      <td id=\"T_94e9c_row5_col10\" class=\"data row5 col10\" >0.000000</td>\n",
       "    </tr>\n",
       "    <tr>\n",
       "      <th id=\"T_94e9c_level0_row6\" class=\"row_heading level0 row6\" >deep</th>\n",
       "      <td id=\"T_94e9c_row6_col0\" class=\"data row6 col0\" >0.000000</td>\n",
       "      <td id=\"T_94e9c_row6_col1\" class=\"data row6 col1\" >0.000000</td>\n",
       "      <td id=\"T_94e9c_row6_col2\" class=\"data row6 col2\" >0.000000</td>\n",
       "      <td id=\"T_94e9c_row6_col3\" class=\"data row6 col3\" >0.000000</td>\n",
       "      <td id=\"T_94e9c_row6_col4\" class=\"data row6 col4\" >0.000000</td>\n",
       "      <td id=\"T_94e9c_row6_col5\" class=\"data row6 col5\" >0.000000</td>\n",
       "      <td id=\"T_94e9c_row6_col6\" class=\"data row6 col6\" >0.000000</td>\n",
       "      <td id=\"T_94e9c_row6_col7\" class=\"data row6 col7\" >1.000000</td>\n",
       "      <td id=\"T_94e9c_row6_col8\" class=\"data row6 col8\" >0.000000</td>\n",
       "      <td id=\"T_94e9c_row6_col9\" class=\"data row6 col9\" >0.000000</td>\n",
       "      <td id=\"T_94e9c_row6_col10\" class=\"data row6 col10\" >0.000000</td>\n",
       "    </tr>\n",
       "    <tr>\n",
       "      <th id=\"T_94e9c_level0_row7\" class=\"row_heading level0 row7\" >learning</th>\n",
       "      <td id=\"T_94e9c_row7_col0\" class=\"data row7 col0\" >0.000000</td>\n",
       "      <td id=\"T_94e9c_row7_col1\" class=\"data row7 col1\" >0.000000</td>\n",
       "      <td id=\"T_94e9c_row7_col2\" class=\"data row7 col2\" >0.000000</td>\n",
       "      <td id=\"T_94e9c_row7_col3\" class=\"data row7 col3\" >0.000000</td>\n",
       "      <td id=\"T_94e9c_row7_col4\" class=\"data row7 col4\" >0.000000</td>\n",
       "      <td id=\"T_94e9c_row7_col5\" class=\"data row7 col5\" >0.000000</td>\n",
       "      <td id=\"T_94e9c_row7_col6\" class=\"data row7 col6\" >0.000000</td>\n",
       "      <td id=\"T_94e9c_row7_col7\" class=\"data row7 col7\" >0.000000</td>\n",
       "      <td id=\"T_94e9c_row7_col8\" class=\"data row7 col8\" >0.000000</td>\n",
       "      <td id=\"T_94e9c_row7_col9\" class=\"data row7 col9\" >0.000000</td>\n",
       "      <td id=\"T_94e9c_row7_col10\" class=\"data row7 col10\" >0.000000</td>\n",
       "    </tr>\n",
       "    <tr>\n",
       "      <th id=\"T_94e9c_level0_row8\" class=\"row_heading level0 row8\" >know</th>\n",
       "      <td id=\"T_94e9c_row8_col0\" class=\"data row8 col0\" >0.000000</td>\n",
       "      <td id=\"T_94e9c_row8_col1\" class=\"data row8 col1\" >0.000000</td>\n",
       "      <td id=\"T_94e9c_row8_col2\" class=\"data row8 col2\" >0.000000</td>\n",
       "      <td id=\"T_94e9c_row8_col3\" class=\"data row8 col3\" >0.000000</td>\n",
       "      <td id=\"T_94e9c_row8_col4\" class=\"data row8 col4\" >0.000000</td>\n",
       "      <td id=\"T_94e9c_row8_col5\" class=\"data row8 col5\" >0.000000</td>\n",
       "      <td id=\"T_94e9c_row8_col6\" class=\"data row8 col6\" >0.000000</td>\n",
       "      <td id=\"T_94e9c_row8_col7\" class=\"data row8 col7\" >0.000000</td>\n",
       "      <td id=\"T_94e9c_row8_col8\" class=\"data row8 col8\" >0.000000</td>\n",
       "      <td id=\"T_94e9c_row8_col9\" class=\"data row8 col9\" >1.000000</td>\n",
       "      <td id=\"T_94e9c_row8_col10\" class=\"data row8 col10\" >0.000000</td>\n",
       "    </tr>\n",
       "    <tr>\n",
       "      <th id=\"T_94e9c_level0_row9\" class=\"row_heading level0 row9\" >this</th>\n",
       "      <td id=\"T_94e9c_row9_col0\" class=\"data row9 col0\" >0.000000</td>\n",
       "      <td id=\"T_94e9c_row9_col1\" class=\"data row9 col1\" >0.000000</td>\n",
       "      <td id=\"T_94e9c_row9_col2\" class=\"data row9 col2\" >0.000000</td>\n",
       "      <td id=\"T_94e9c_row9_col3\" class=\"data row9 col3\" >0.000000</td>\n",
       "      <td id=\"T_94e9c_row9_col4\" class=\"data row9 col4\" >0.000000</td>\n",
       "      <td id=\"T_94e9c_row9_col5\" class=\"data row9 col5\" >0.000000</td>\n",
       "      <td id=\"T_94e9c_row9_col6\" class=\"data row9 col6\" >0.000000</td>\n",
       "      <td id=\"T_94e9c_row9_col7\" class=\"data row9 col7\" >0.000000</td>\n",
       "      <td id=\"T_94e9c_row9_col8\" class=\"data row9 col8\" >0.000000</td>\n",
       "      <td id=\"T_94e9c_row9_col9\" class=\"data row9 col9\" >0.000000</td>\n",
       "      <td id=\"T_94e9c_row9_col10\" class=\"data row9 col10\" >1.000000</td>\n",
       "    </tr>\n",
       "    <tr>\n",
       "      <th id=\"T_94e9c_level0_row10\" class=\"row_heading level0 row10\" >code</th>\n",
       "      <td id=\"T_94e9c_row10_col0\" class=\"data row10 col0\" >0.000000</td>\n",
       "      <td id=\"T_94e9c_row10_col1\" class=\"data row10 col1\" >0.000000</td>\n",
       "      <td id=\"T_94e9c_row10_col2\" class=\"data row10 col2\" >0.000000</td>\n",
       "      <td id=\"T_94e9c_row10_col3\" class=\"data row10 col3\" >0.000000</td>\n",
       "      <td id=\"T_94e9c_row10_col4\" class=\"data row10 col4\" >0.000000</td>\n",
       "      <td id=\"T_94e9c_row10_col5\" class=\"data row10 col5\" >0.000000</td>\n",
       "      <td id=\"T_94e9c_row10_col6\" class=\"data row10 col6\" >0.000000</td>\n",
       "      <td id=\"T_94e9c_row10_col7\" class=\"data row10 col7\" >0.000000</td>\n",
       "      <td id=\"T_94e9c_row10_col8\" class=\"data row10 col8\" >0.000000</td>\n",
       "      <td id=\"T_94e9c_row10_col9\" class=\"data row10 col9\" >0.000000</td>\n",
       "      <td id=\"T_94e9c_row10_col10\" class=\"data row10 col10\" >0.000000</td>\n",
       "    </tr>\n",
       "  </tbody>\n",
       "</table>\n"
      ],
      "text/plain": [
       "<pandas.io.formats.style.Styler at 0x17a723728b0>"
      ]
     },
     "execution_count": 18,
     "metadata": {},
     "output_type": "execute_result"
    }
   ],
   "source": [
    "df=pd.DataFrame(prob_matrix,index=cpd.keys(),columns=cpd.keys())\n",
    "\n",
    "df.style.background_gradient(cmap='coolwarm')"
   ]
  },
  {
   "cell_type": "code",
   "execution_count": 19,
   "id": "0e5d6e92",
   "metadata": {},
   "outputs": [
    {
     "name": "stdout",
     "output_type": "stream",
     "text": [
      "['SS', 'I', 'love', 'data', 'science', 'and', 'deep', 'learning', 'know', 'this', 'code']\n",
      "[('SS', 'I'), ('I', 'love'), ('I', 'know'), ('love', 'data'), ('love', 'science'), ('data', 'science'), ('science', 'and'), ('and', 'deep'), ('deep', 'learning'), ('know', 'this'), ('this', 'code')]\n"
     ]
    }
   ],
   "source": [
    "prob_G=nx.from_pandas_adjacency(df)\n",
    "\n",
    "print(prob_G.nodes())\n",
    "print(prob_G.edges())"
   ]
  },
  {
   "cell_type": "code",
   "execution_count": 20,
   "id": "4ce3bcd9",
   "metadata": {},
   "outputs": [
    {
     "name": "stdout",
     "output_type": "stream",
     "text": [
      "{'weight': 2}\n",
      "{'weight': 1}\n",
      "{'weight': 0.6666666666666666}\n",
      "{'weight': 0.3333333333333333}\n"
     ]
    }
   ],
   "source": [
    "print(G.edges()[('I','love')])\n",
    "print(G.edges()[('I','know')])\n",
    "\n",
    "print(prob_G.edges()[('I','love')])\n",
    "print(prob_G.edges()[('I','know')])"
   ]
  },
  {
   "cell_type": "code",
   "execution_count": 21,
   "id": "268a1338",
   "metadata": {},
   "outputs": [
    {
     "data": {
      "image/png": "[encoded data removed]",
      "text/plain": [
       "<Figure size 432x288 with 1 Axes>"
      ]
     },
     "metadata": {},
     "output_type": "display_data"
    }
   ],
   "source": [
    "nx.draw(prob_G,with_labels=True)"
   ]
  },
  {
   "cell_type": "markdown",
   "id": "0a8c635b",
   "metadata": {},
   "source": [
    "# 중심성(Centrality) 지수"
   ]
  },
  {
   "cell_type": "code",
   "execution_count": 22,
   "id": "1b488e11",
   "metadata": {},
   "outputs": [
    {
     "data": {
      "text/plain": [
       "{'SS': 0.1,\n",
       " 'I': 0.30000000000000004,\n",
       " 'love': 0.30000000000000004,\n",
       " 'data': 0.2,\n",
       " 'science': 0.30000000000000004,\n",
       " 'and': 0.2,\n",
       " 'deep': 0.2,\n",
       " 'learning': 0.1,\n",
       " 'know': 0.2,\n",
       " 'this': 0.2,\n",
       " 'code': 0.1}"
      ]
     },
     "execution_count": 22,
     "metadata": {},
     "output_type": "execute_result"
    }
   ],
   "source": [
    "nx.degree_centrality(G)"
   ]
  },
  {
   "cell_type": "code",
   "execution_count": 23,
   "id": "96f531c4",
   "metadata": {},
   "outputs": [
    {
     "data": {
      "text/plain": [
       "{'SS': 0.5218381818736308,\n",
       " 'I': 0.6738972217471829,\n",
       " 'love': 0.4289818764298256,\n",
       " 'data': 0.15246421196699775,\n",
       " 'science': 0.16168537263306304,\n",
       " 'and': 0.04494390325361216,\n",
       " 'deep': 0.012430000571815347,\n",
       " 'learning': 0.003208839905750058,\n",
       " 'know': 0.18731685432677989,\n",
       " 'this': 0.05180118197737535,\n",
       " 'code': 0.013370793702236268}"
      ]
     },
     "execution_count": 23,
     "metadata": {},
     "output_type": "execute_result"
    }
   ],
   "source": [
    "nx.eigenvector_centrality(G,weight='weight')"
   ]
  },
  {
   "cell_type": "code",
   "execution_count": 24,
   "id": "35952fba",
   "metadata": {},
   "outputs": [
    {
     "data": {
      "text/plain": [
       "{'SS': 0.0,\n",
       " 'I': 0.6,\n",
       " 'love': 0.5555555555555556,\n",
       " 'data': 0.0,\n",
       " 'science': 0.4666666666666667,\n",
       " 'and': 0.35555555555555557,\n",
       " 'deep': 0.2,\n",
       " 'learning': 0.0,\n",
       " 'know': 0.35555555555555557,\n",
       " 'this': 0.2,\n",
       " 'code': 0.0}"
      ]
     },
     "execution_count": 24,
     "metadata": {},
     "output_type": "execute_result"
    }
   ],
   "source": [
    "nx.betweenness_centrality(G)"
   ]
  },
  {
   "cell_type": "code",
   "execution_count": 26,
   "id": "7c82d9f3",
   "metadata": {},
   "outputs": [],
   "source": [
    "def get_node_size(node_values):\n",
    "    nsize=np.array([v for v in node_values])\n",
    "    nsize=1000*(nsize-min(nsize))/(max(nsize)-min(nsize))\n",
    "    \n",
    "    return nsize"
   ]
  },
  {
   "cell_type": "code",
   "execution_count": 27,
   "id": "93a9ce9e",
   "metadata": {},
   "outputs": [
    {
     "data": {
      "image/png": "[encoded data removed]",
      "text/plain": [
       "<Figure size 1080x1080 with 4 Axes>"
      ]
     },
     "metadata": {},
     "output_type": "display_data"
    }
   ],
   "source": [
    "import matplotlib.pyplot as plt\n",
    "plt.style.use('seaborn-white') \n",
    "\n",
    "dc = nx.degree_centrality(G).values()\n",
    "ec = nx.eigenvector_centrality(G, weight='weight').values()\n",
    "bc = nx.betweenness_centrality(G).values()\n",
    "\n",
    "plt.figure(figsize=(15, 15))\n",
    "plt.axis('off') \n",
    "\n",
    "plt.subplot(221)\n",
    "plt.title('Normal', fontsize=16)\n",
    "nx.draw_networkx(G, font_size=16, alpha=0.7, cmap=plt.cm.Blues) \n",
    "\n",
    "plt.subplot(222)\n",
    "plt.title('Degree Centrality', fontsize=16)\n",
    "nx.draw_networkx(G, font_size=16, \n",
    "                 node_color=list(dc), node_size=get_node_size(dc), \n",
    "                 alpha=0.7, cmap=plt.cm.Blues) \n",
    "\n",
    "plt.subplot(223)\n",
    "plt.title('Eigenvector Centrality', fontsize=16)\n",
    "nx.draw_networkx(G, font_size=16, \n",
    "                 node_color=list(ec), node_size=get_node_size(ec), \n",
    "                 alpha=0.7, cmap=plt.cm.Blues)\n",
    "\n",
    "plt.subplot(224)\n",
    "plt.title('Betweenness Centrality', fontsize=16)\n",
    "nx.draw_networkx(G, font_size=16, \n",
    "                 node_color=list(bc), node_size=get_node_size(bc), \n",
    "                 alpha=0.7, cmap=plt.cm.Blues)\n",
    "\n",
    "plt.show()"
   ]
  }
 ],
 "metadata": {
  "kernelspec": {
   "display_name": "Python 3 (ipykernel)",
   "language": "python",
   "name": "python3"
  },
  "language_info": {
   "codemirror_mode": {
    "name": "ipython",
    "version": 3
   },
   "file_extension": ".py",
   "mimetype": "text/x-python",
   "name": "python",
   "nbconvert_exporter": "python",
   "pygments_lexer": "ipython3",
   "version": "3.9.7"
  }
 },
 "nbformat": 4,
 "nbformat_minor": 5
}
