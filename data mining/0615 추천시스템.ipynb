{
 "cells": [
  {
   "cell_type": "markdown",
   "id": "c9ce3156",
   "metadata": {},
   "source": [
    "# Surprise"
   ]
  },
  {
   "cell_type": "markdown",
   "id": "347bd4da",
   "metadata": {},
   "source": [
    "- 추천 시스템 개발을 위한 라이브러리\n",
    "- 다양한 모델과 데이터 제공\n",
    "- scikit-learn과 유사한 사용 방법"
   ]
  },
  {
   "cell_type": "code",
   "execution_count": 1,
   "id": "1521b072",
   "metadata": {},
   "outputs": [
    {
     "name": "stdout",
     "output_type": "stream",
     "text": [
      "Collecting scikit-surprise\n",
      "  Downloading scikit-surprise-1.1.1.tar.gz (11.8 MB)\n",
      "\u001b[K     |████████████████████████████████| 11.8 MB 9.3 MB/s eta 0:00:01    |█████████████████               | 6.3 MB 6.9 MB/s eta 0:00:01\n",
      "\u001b[?25hRequirement already satisfied: joblib>=0.11 in /Users/sum/opt/anaconda3/lib/python3.9/site-packages (from scikit-surprise) (1.1.0)\n",
      "Requirement already satisfied: numpy>=1.11.2 in /Users/sum/opt/anaconda3/lib/python3.9/site-packages (from scikit-surprise) (1.20.3)\n",
      "Requirement already satisfied: scipy>=1.0.0 in /Users/sum/opt/anaconda3/lib/python3.9/site-packages (from scikit-surprise) (1.7.1)\n",
      "Requirement already satisfied: six>=1.10.0 in /Users/sum/opt/anaconda3/lib/python3.9/site-packages (from scikit-surprise) (1.16.0)\n",
      "Building wheels for collected packages: scikit-surprise\n",
      "  Building wheel for scikit-surprise (setup.py) ... \u001b[?25ldone\n",
      "\u001b[?25h  Created wheel for scikit-surprise: filename=scikit_surprise-1.1.1-cp39-cp39-macosx_10_9_x86_64.whl size=751453 sha256=f109a0d91186855badfaf0055c9cff21293e5ba55c432a5c7bdaa4c8f07188f2\n",
      "  Stored in directory: /Users/sum/Library/Caches/pip/wheels/6b/10/c9/7f607c8cb522ef378844f41e63b30d7181a6495d2c1ae514e9\n",
      "Successfully built scikit-surprise\n",
      "Installing collected packages: scikit-surprise\n",
      "Successfully installed scikit-surprise-1.1.1\n"
     ]
    }
   ],
   "source": [
    "!pip install scikit-surprise"
   ]
  },
  {
   "cell_type": "code",
   "execution_count": 2,
   "id": "81797cea",
   "metadata": {},
   "outputs": [],
   "source": [
    "import numpy as np\n",
    "from surprise import Dataset"
   ]
  },
  {
   "cell_type": "code",
   "execution_count": 3,
   "id": "28c6f055",
   "metadata": {},
   "outputs": [
    {
     "name": "stdout",
     "output_type": "stream",
     "text": [
      "Trying to download dataset from http://files.grouplens.org/datasets/movielens/ml-100k.zip...\n",
      "Done! Dataset ml-100k has been saved to /Users/sum/.surprise_data/ml-100k\n"
     ]
    },
    {
     "data": {
      "text/plain": [
       "[('196', '242', 3.0, '881250949'),\n",
       " ('186', '302', 3.0, '891717742'),\n",
       " ('22', '377', 1.0, '878887116'),\n",
       " ('244', '51', 2.0, '880606923'),\n",
       " ('166', '346', 1.0, '886397596'),\n",
       " ('298', '474', 4.0, '884182806'),\n",
       " ('115', '265', 2.0, '881171488'),\n",
       " ('253', '465', 5.0, '891628467'),\n",
       " ('305', '451', 3.0, '886324817'),\n",
       " ('6', '86', 3.0, '883603013')]"
      ]
     },
     "execution_count": 3,
     "metadata": {},
     "output_type": "execute_result"
    }
   ],
   "source": [
    "data = Dataset.load_builtin('ml-100k', prompt=False)\n",
    "\n",
    "data.raw_ratings[:10]"
   ]
  },
  {
   "cell_type": "code",
   "execution_count": 4,
   "id": "0454b908",
   "metadata": {},
   "outputs": [],
   "source": [
    "raw_data = np.array(data.raw_ratings, dtype=int)"
   ]
  },
  {
   "cell_type": "code",
   "execution_count": 5,
   "id": "b65e5e5d",
   "metadata": {},
   "outputs": [],
   "source": [
    "raw_data[:, 0] -= 1\n",
    "raw_data[:, 1] -= 1"
   ]
  },
  {
   "cell_type": "code",
   "execution_count": 6,
   "id": "f145bcb0",
   "metadata": {},
   "outputs": [
    {
     "data": {
      "text/plain": [
       "array([[      195,       241,         3, 881250949],\n",
       "       [      185,       301,         3, 891717742],\n",
       "       [       21,       376,         1, 878887116],\n",
       "       ...,\n",
       "       [      275,      1089,         1, 874795795],\n",
       "       [       12,       224,         2, 882399156],\n",
       "       [       11,       202,         3, 879959583]])"
      ]
     },
     "execution_count": 6,
     "metadata": {},
     "output_type": "execute_result"
    }
   ],
   "source": [
    "raw_data"
   ]
  },
  {
   "cell_type": "code",
   "execution_count": 7,
   "id": "f64eed18",
   "metadata": {},
   "outputs": [
    {
     "data": {
      "text/plain": [
       "(943, 1682)"
      ]
     },
     "execution_count": 7,
     "metadata": {},
     "output_type": "execute_result"
    }
   ],
   "source": [
    "n_users = np.max(raw_data[:, 0])\n",
    "n_movies = np.max(raw_data[:, 1])\n",
    "shape = (n_users + 1, n_movies + 1)\n",
    "shape"
   ]
  },
  {
   "cell_type": "code",
   "execution_count": 8,
   "id": "6d45d09f",
   "metadata": {},
   "outputs": [
    {
     "data": {
      "text/plain": [
       "array([[1, 1, 1, ..., 0, 0, 0],\n",
       "       [1, 0, 0, ..., 0, 0, 0],\n",
       "       [0, 0, 0, ..., 0, 0, 0],\n",
       "       ...,\n",
       "       [1, 0, 0, ..., 0, 0, 0],\n",
       "       [0, 0, 0, ..., 0, 0, 0],\n",
       "       [0, 1, 0, ..., 0, 0, 0]])"
      ]
     },
     "execution_count": 8,
     "metadata": {},
     "output_type": "execute_result"
    }
   ],
   "source": [
    "adj_matrix = np.ndarray(shape, dtype=int)\n",
    "for user_id, movie_id, rating, time in raw_data:\n",
    "    adj_matrix[user_id][movie_id] = 1.\n",
    "adj_matrix"
   ]
  },
  {
   "cell_type": "markdown",
   "id": "adc397f7",
   "metadata": {},
   "source": [
    "# User-Based Collaborative Filtering의 직접 구현"
   ]
  },
  {
   "cell_type": "code",
   "execution_count": 9,
   "id": "af9a4261",
   "metadata": {},
   "outputs": [
    {
     "name": "stdout",
     "output_type": "stream",
     "text": [
      "Best Match: 14.832396974191326, Best Match ID: 737\n"
     ]
    }
   ],
   "source": [
    "my_id, my_vector = 0, adj_matrix[0] \n",
    "best_match, best_match_id, best_match_vector = 9999, -1, []\n",
    "\n",
    "# 유클리드 거리를 통해 유사도 구하기\n",
    "for user_id, user_vector in enumerate(adj_matrix):\n",
    "    if my_id != user_id:\n",
    "        euclidean_dist = np.sqrt(np.sum(np.square(my_vector - user_vector)))\n",
    "        if euclidean_dist < best_match:\n",
    "            best_match = euclidean_dist\n",
    "            best_match_id = user_id\n",
    "            best_match_vector = user_vector\n",
    "            \n",
    "print('Best Match: {}, Best Match ID: {}'.format(best_match, best_match_id))"
   ]
  },
  {
   "cell_type": "code",
   "execution_count": 10,
   "id": "370e1dfe",
   "metadata": {},
   "outputs": [
    {
     "name": "stdout",
     "output_type": "stream",
     "text": [
      "[1 1 1 ... 0 0 0] [1 1 0 ... 0 0 0]\n"
     ]
    }
   ],
   "source": [
    "print(my_vector, best_match_vector)"
   ]
  },
  {
   "cell_type": "code",
   "execution_count": 11,
   "id": "2014e551",
   "metadata": {},
   "outputs": [
    {
     "name": "stdout",
     "output_type": "stream",
     "text": [
      "[297, 312, 317, 342, 356, 366, 379, 384, 392, 402, 404, 407, 417, 422, 428, 433, 448, 454, 469, 473, 495, 510, 516, 526, 527, 549, 567, 602, 635, 649, 650, 654, 658, 661, 664, 696, 731, 746, 750, 754, 915, 918, 925, 929, 950, 968, 1015, 1046]\n"
     ]
    }
   ],
   "source": [
    "# 내가 안본 영화 중 737번이 본 영화를 추천\n",
    "recommend_list = []\n",
    "for i, log in enumerate(zip(my_vector, best_match_vector)):\n",
    "    log1, log2 = log\n",
    "    if log1 < 1. and log2 > 0.:\n",
    "        recommend_list.append(i)\n",
    "print(recommend_list)"
   ]
  },
  {
   "cell_type": "markdown",
   "id": "b367999f",
   "metadata": {},
   "source": [
    "## 코사인 유사도를 사용해 추천"
   ]
  },
  {
   "cell_type": "code",
   "execution_count": 12,
   "id": "f27fa634",
   "metadata": {},
   "outputs": [],
   "source": [
    "def compute_cos_similarity(v1, v2):\n",
    "    norm1 = np.sqrt(np.sum(np.square(v1)))\n",
    "    norm2 = np.sqrt(np.sum(np.square(v2)))\n",
    "    dot = np.dot(v1, v2)\n",
    "    return dot / (norm1 * norm2)"
   ]
  },
  {
   "cell_type": "code",
   "execution_count": 13,
   "id": "b98bc351",
   "metadata": {},
   "outputs": [
    {
     "name": "stdout",
     "output_type": "stream",
     "text": [
      "Best Match: 0.5278586163659506, Best Match ID: 915\n"
     ]
    }
   ],
   "source": [
    "my_id, my_vector = 0, adj_matrix[0] # 내 id가 0번 이라고 가정\n",
    "best_match, best_match_id, best_match_vector = -1, -1, []\n",
    "\n",
    "# 코사인 유사도를 통해 유사도 구하기\n",
    "for user_id, user_vector in enumerate(adj_matrix):\n",
    "    if my_id != user_id:\n",
    "        cos_similarity = compute_cos_similarity(my_vector, user_vector)\n",
    "        if cos_similarity > best_match:\n",
    "            best_match = cos_similarity\n",
    "            best_match_id = user_id\n",
    "            best_match_vector = user_vector\n",
    "            \n",
    "print('Best Match: {}, Best Match ID: {}'.format(best_match, best_match_id))"
   ]
  },
  {
   "cell_type": "code",
   "execution_count": 14,
   "id": "c793247c",
   "metadata": {},
   "outputs": [
    {
     "name": "stdout",
     "output_type": "stream",
     "text": [
      "[272, 275, 279, 280, 283, 285, 289, 294, 297, 316, 317, 355, 365, 366, 368, 379, 380, 381, 384, 386, 392, 398, 401, 404, 416, 420, 422, 424, 426, 427, 430, 432, 450, 460, 461, 466, 469, 471, 473, 474, 475, 479, 482, 483, 497, 505, 508, 510, 511, 522, 526, 527, 529, 530, 534, 536, 540, 545, 548, 549, 556, 557, 558, 560, 565, 567, 568, 569, 577, 580, 581, 582, 592, 596, 630, 635, 639, 641, 649, 651, 654, 673, 677, 678, 683, 684, 692, 696, 701, 703, 707, 708, 709, 712, 714, 719, 720, 726, 731, 734, 736, 738, 740, 745, 747, 754, 755, 761, 762, 763, 766, 780, 789, 791, 805, 819, 823, 824, 830, 843, 862, 865, 918, 929, 930, 938, 942, 943, 947, 958, 959, 960, 970, 977, 1004, 1008, 1009, 1010, 1013, 1041, 1045, 1069, 1072, 1073, 1078, 1097, 1100, 1108, 1112, 1118, 1134, 1193, 1205, 1207, 1216, 1219, 1267, 1334, 1400, 1427, 1596, 1681]\n"
     ]
    }
   ],
   "source": [
    "# 내가 안본 영화 중 915번이 본 영화를 추천\n",
    "recommend_list = []\n",
    "for i, log in enumerate(zip(my_vector, best_match_vector)):\n",
    "    log1, log2 = log\n",
    "    if log1 < 1. and log2 > 0.:\n",
    "        recommend_list.append(i)\n",
    "print(recommend_list)"
   ]
  },
  {
   "cell_type": "markdown",
   "id": "7d8c9db8",
   "metadata": {},
   "source": [
    "# 명시적 피드백을 추가"
   ]
  },
  {
   "cell_type": "markdown",
   "id": "548fcb8d",
   "metadata": {},
   "source": [
    "기존 방법에 명시적 피드백(사용자가 평가한 영화 점수)을 추가해 실험"
   ]
  },
  {
   "cell_type": "code",
   "execution_count": 15,
   "id": "20e22b7e",
   "metadata": {},
   "outputs": [
    {
     "data": {
      "text/plain": [
       "array([[5, 3, 4, ..., 0, 0, 0],\n",
       "       [4, 0, 0, ..., 0, 0, 0],\n",
       "       [0, 0, 0, ..., 0, 0, 0],\n",
       "       ...,\n",
       "       [5, 0, 0, ..., 0, 0, 0],\n",
       "       [0, 0, 0, ..., 0, 0, 0],\n",
       "       [0, 5, 0, ..., 0, 0, 0]])"
      ]
     },
     "execution_count": 15,
     "metadata": {},
     "output_type": "execute_result"
    }
   ],
   "source": [
    "# 명시적 피드백을 추가한 <사용자, 영화> 인접 행렬 생성\n",
    "adj_matrix = np.ndarray(shape, dtype=int)\n",
    "for user_id, movie_id, rating, time in raw_data:\n",
    "    adj_matrix[user_id][movie_id] = rating\n",
    "adj_matrix"
   ]
  },
  {
   "cell_type": "code",
   "execution_count": 16,
   "id": "b4e79b93",
   "metadata": {},
   "outputs": [
    {
     "name": "stdout",
     "output_type": "stream",
     "text": [
      "Best Match: 55.06359959174482, Best Match ID: 737\n"
     ]
    }
   ],
   "source": [
    "my_id, my_vector = 0, adj_matrix[0] # 내 id가 0번 이라고 가정\n",
    "best_match, best_match_id, best_match_vector = 9999, -1, []\n",
    "\n",
    "# 유클리드 거리를 통해 유사도 구하기\n",
    "for user_id, user_vector in enumerate(adj_matrix):\n",
    "    if my_id != user_id:\n",
    "        euclidean_dist = np.sqrt(np.sum(np.square(my_vector - user_vector)))\n",
    "        if euclidean_dist < best_match:\n",
    "            best_match = euclidean_dist\n",
    "            best_match_id = user_id\n",
    "            best_match_vector = user_vector\n",
    "            \n",
    "print('Best Match: {}, Best Match ID: {}'.format(best_match, best_match_id))"
   ]
  },
  {
   "cell_type": "code",
   "execution_count": 17,
   "id": "b6a7a17b",
   "metadata": {},
   "outputs": [
    {
     "name": "stdout",
     "output_type": "stream",
     "text": [
      "Best Match: 0.569065731527988, Best Match ID: 915\n"
     ]
    }
   ],
   "source": [
    "my_id, my_vector = 0, adj_matrix[0] # 내 id가 0번 이라고 가정\n",
    "best_match, best_match_id, best_match_vector = -1, -1, []\n",
    "\n",
    "# 코사인 유사도를 통해 유사도 구하기\n",
    "for user_id, user_vector in enumerate(adj_matrix):\n",
    "    if my_id != user_id:\n",
    "        cos_similarity = compute_cos_similarity(my_vector, user_vector)\n",
    "        if cos_similarity > best_match:\n",
    "            best_match = cos_similarity\n",
    "            best_match_id = user_id\n",
    "            best_match_vector = user_vector\n",
    "            \n",
    "print('Best Match: {}, Best Match ID: {}'.format(best_match, best_match_id))"
   ]
  },
  {
   "cell_type": "markdown",
   "id": "f2664e07",
   "metadata": {},
   "source": [
    "## surprise 라이브러리"
   ]
  },
  {
   "cell_type": "code",
   "execution_count": 18,
   "id": "3168f0b8",
   "metadata": {},
   "outputs": [],
   "source": [
    "from surprise import KNNBasic, SVD\n",
    "from surprise.model_selection import cross_validate, train_test_split\n",
    "from surprise import accuracy"
   ]
  },
  {
   "cell_type": "markdown",
   "id": "73645d1b",
   "metadata": {},
   "source": [
    "## Nearest Neighbor CF\n",
    "\n",
    "- KNNBasic()"
   ]
  },
  {
   "cell_type": "code",
   "execution_count": 19,
   "id": "91f1070f",
   "metadata": {},
   "outputs": [
    {
     "name": "stdout",
     "output_type": "stream",
     "text": [
      "Evaluating RMSE, MAE of algorithm KNNBasic on 5 split(s).\n",
      "\n",
      "                  Fold 1  Fold 2  Fold 3  Fold 4  Fold 5  Mean    Std     \n",
      "RMSE (testset)    0.9776  0.9755  0.9818  0.9792  0.9746  0.9777  0.0026  \n",
      "MAE (testset)     0.7725  0.7683  0.7757  0.7724  0.7713  0.7720  0.0024  \n",
      "Fit time          0.31    0.31    0.31    0.30    0.22    0.29    0.04    \n",
      "Test time         2.02    2.01    2.01    2.01    1.79    1.97    0.09    \n"
     ]
    }
   ],
   "source": [
    "model_nn = KNNBasic()\n",
    "cross_validate(model_nn, data, measures=['rmse', 'mae'], cv=5, n_jobs=4, verbose=True);"
   ]
  },
  {
   "cell_type": "markdown",
   "id": "ab488210",
   "metadata": {},
   "source": [
    "## Latent Factor CF\n",
    "\n",
    "- SVD()"
   ]
  },
  {
   "cell_type": "code",
   "execution_count": 20,
   "id": "21df95d1",
   "metadata": {},
   "outputs": [
    {
     "name": "stdout",
     "output_type": "stream",
     "text": [
      "Evaluating RMSE, MAE of algorithm SVD on 5 split(s).\n",
      "\n",
      "                  Fold 1  Fold 2  Fold 3  Fold 4  Fold 5  Mean    Std     \n",
      "RMSE (testset)    0.9394  0.9277  0.9389  0.9393  0.9316  0.9354  0.0048  \n",
      "MAE (testset)     0.7396  0.7324  0.7398  0.7408  0.7326  0.7370  0.0037  \n",
      "Fit time          5.05    5.04    5.35    5.07    4.59    5.02    0.24    \n",
      "Test time         0.15    0.16    0.13    0.13    0.13    0.14    0.01    \n"
     ]
    }
   ],
   "source": [
    "model_lf = SVD()\n",
    "cross_validate(model_lf, data, measures=['rmse', 'mae'], cv=5, n_jobs=4, verbose=True);"
   ]
  },
  {
   "cell_type": "markdown",
   "id": "fc8a5ec1",
   "metadata": {},
   "source": [
    "## SVD를 사용하여 추천"
   ]
  },
  {
   "cell_type": "code",
   "execution_count": 21,
   "id": "ef19bb14",
   "metadata": {},
   "outputs": [],
   "source": [
    "# surprise의 train_test_split() 사용\n",
    "trainset, testset = train_test_split(data, test_size=0.25, random_state=0)"
   ]
  },
  {
   "cell_type": "code",
   "execution_count": 22,
   "id": "c19ea6be",
   "metadata": {},
   "outputs": [
    {
     "data": {
      "text/plain": [
       "<surprise.prediction_algorithms.matrix_factorization.SVD at 0x7ff66e750b80>"
      ]
     },
     "execution_count": 22,
     "metadata": {},
     "output_type": "execute_result"
    }
   ],
   "source": [
    "model_lf.fit(trainset)"
   ]
  },
  {
   "cell_type": "code",
   "execution_count": 23,
   "id": "484a3358",
   "metadata": {},
   "outputs": [
    {
     "data": {
      "text/plain": [
       "Prediction(uid='196', iid='302', r_ui=None, est=4.078736194861334, details={'was_impossible': False})"
      ]
     },
     "execution_count": 23,
     "metadata": {},
     "output_type": "execute_result"
    }
   ],
   "source": [
    "# userID 196, itemID 302\n",
    "uid, iid = str(196), str(302)\n",
    "\n",
    "# 예측 평점\n",
    "pred = model_lf.predict(uid, iid)\n",
    "pred"
   ]
  },
  {
   "cell_type": "code",
   "execution_count": 24,
   "id": "68e52173",
   "metadata": {},
   "outputs": [
    {
     "name": "stdout",
     "output_type": "stream",
     "text": [
      "prediction type: <class 'list'>  size: 25000\n"
     ]
    },
    {
     "data": {
      "text/plain": [
       "[Prediction(uid='120', iid='282', r_ui=4.0, est=3.660648964183838, details={'was_impossible': False}),\n",
       " Prediction(uid='882', iid='291', r_ui=4.0, est=3.7713469068740237, details={'was_impossible': False}),\n",
       " Prediction(uid='535', iid='507', r_ui=5.0, est=4.279324328989259, details={'was_impossible': False}),\n",
       " Prediction(uid='697', iid='244', r_ui=5.0, est=3.746938603779123, details={'was_impossible': False}),\n",
       " Prediction(uid='751', iid='385', r_ui=4.0, est=3.451698148718369, details={'was_impossible': False})]"
      ]
     },
     "execution_count": 24,
     "metadata": {},
     "output_type": "execute_result"
    }
   ],
   "source": [
    "pred_test = model_lf.test(testset)\n",
    "\n",
    "print('prediction type:', type(pred_test), ' size:', len(pred_test))\n",
    "pred_test[:5]"
   ]
  },
  {
   "cell_type": "code",
   "execution_count": 25,
   "id": "55115514",
   "metadata": {},
   "outputs": [
    {
     "name": "stdout",
     "output_type": "stream",
     "text": [
      "RMSE: 0.9495\n"
     ]
    }
   ],
   "source": [
    "pred_accuracy = accuracy.rmse(pred_test)"
   ]
  },
  {
   "cell_type": "code",
   "execution_count": null,
   "id": "5dccf96d",
   "metadata": {},
   "outputs": [],
   "source": []
  }
 ],
 "metadata": {
  "kernelspec": {
   "display_name": "Python 3 (ipykernel)",
   "language": "python",
   "name": "python3"
  },
  "language_info": {
   "codemirror_mode": {
    "name": "ipython",
    "version": 3
   },
   "file_extension": ".py",
   "mimetype": "text/x-python",
   "name": "python",
   "nbconvert_exporter": "python",
   "pygments_lexer": "ipython3",
   "version": "3.9.7"
  }
 },
 "nbformat": 4,
 "nbformat_minor": 5
}
