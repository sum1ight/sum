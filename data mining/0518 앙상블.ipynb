{
 "cells": [
  {
   "cell_type": "code",
   "execution_count": 1,
   "id": "8686fe6d",
   "metadata": {},
   "outputs": [],
   "source": [
    "import numpy as np\n",
    "import pandas as pd\n",
    "import matplotlib.pyplot as plt"
   ]
  },
  {
   "cell_type": "code",
   "execution_count": 2,
   "id": "12ef9776",
   "metadata": {},
   "outputs": [],
   "source": [
    "from sklearn.datasets import load_iris, load_wine, load_breast_cancer\n",
    "from sklearn.preprocessing import StandardScaler\n",
    "from sklearn.pipeline import make_pipeline\n",
    "from sklearn.model_selection import train_test_split, cross_validate\n",
    "from sklearn.metrics import accuracy_score, precision_score, recall_score"
   ]
  },
  {
   "cell_type": "code",
   "execution_count": 3,
   "id": "238b2a89",
   "metadata": {},
   "outputs": [],
   "source": [
    "from sklearn.ensemble import BaggingClassifier\n",
    "from sklearn.neighbors import KNeighborsClassifier\n",
    "from sklearn.svm import SVC\n",
    "from sklearn.tree import DecisionTreeClassifier"
   ]
  },
  {
   "cell_type": "code",
   "execution_count": 4,
   "id": "5ab783c4",
   "metadata": {},
   "outputs": [],
   "source": [
    "cancer = load_breast_cancer()\n",
    "iris = load_iris()\n",
    "wine = load_wine()"
   ]
  },
  {
   "cell_type": "markdown",
   "id": "5cd12a0c",
   "metadata": {},
   "source": [
    "# Bagging을 사용한 분류"
   ]
  },
  {
   "cell_type": "markdown",
   "id": "acd721c7",
   "metadata": {},
   "source": [
    "- bagging은 bootstrap aggregating의 줄임말\n",
    "- 원래 훈련 데이터셋의 일부를 사용해 여러 모델을 훈련\n",
    "- 각각의 결과를 걸합해 최종 결과를 생성\n",
    "- 분산을 줄이고 과적합을 막음\n",
    "- 강력하고 복잡한 모델에서 잘 동작"
   ]
  },
  {
   "cell_type": "markdown",
   "id": "717441ce",
   "metadata": {},
   "source": [
    "# KNN"
   ]
  },
  {
   "cell_type": "code",
   "execution_count": 5,
   "id": "0aaaf5bf",
   "metadata": {},
   "outputs": [],
   "source": [
    "base_model = make_pipeline(\n",
    "    StandardScaler(),\n",
    "    KNeighborsClassifier()\n",
    ")\n",
    "bagging_model = BaggingClassifier(base_model, n_estimators=10, max_samples=0.5, max_features=0.5)"
   ]
  },
  {
   "cell_type": "code",
   "execution_count": 6,
   "id": "fe5438e3",
   "metadata": {},
   "outputs": [
    {
     "name": "stdout",
     "output_type": "stream",
     "text": [
      "avg fit time: 0.003021907806396484 (+/- 0.005558599371747533\n",
      "avg score time: 0.006174468994140625 (+/- 0.007693132473304358\n",
      "avg test score: 0.9648501785437045 (+/- 0.009609970350036127\n"
     ]
    }
   ],
   "source": [
    "cross_val = cross_validate(\n",
    "estimator=base_model,\n",
    "X=cancer.data,\n",
    "y=cancer.target,\n",
    "cv=5\n",
    ")\n",
    "print('avg fit time: {} (+/- {}'.format(cross_val['fit_time'].mean(), cross_val['fit_time'].std()))\n",
    "print('avg score time: {} (+/- {}'.format(cross_val['score_time'].mean(), cross_val['score_time'].std()))\n",
    "print('avg test score: {} (+/- {}'.format(cross_val['test_score'].mean(), cross_val['test_score'].std()))"
   ]
  },
  {
   "cell_type": "code",
   "execution_count": 7,
   "id": "74c0613f",
   "metadata": {},
   "outputs": [
    {
     "name": "stdout",
     "output_type": "stream",
     "text": [
      "avg fit time: 0.01324605941772461 (+/- 0.0035287766055449635\n",
      "avg score time: 0.011557817459106445 (+/- 0.006226352856315988\n",
      "avg test score: 0.9578481602235678 (+/- 0.016033681003007488\n"
     ]
    }
   ],
   "source": [
    "cross_val = cross_validate(\n",
    "estimator=bagging_model,\n",
    "X=cancer.data,\n",
    "y=cancer.target,\n",
    "cv=5\n",
    ")\n",
    "print('avg fit time: {} (+/- {}'.format(cross_val['fit_time'].mean(), cross_val['fit_time'].std()))\n",
    "print('avg score time: {} (+/- {}'.format(cross_val['score_time'].mean(), cross_val['score_time'].std()))\n",
    "print('avg test score: {} (+/- {}'.format(cross_val['test_score'].mean(), cross_val['test_score'].std()))"
   ]
  },
  {
   "cell_type": "markdown",
   "id": "8bb6c6a7",
   "metadata": {},
   "source": [
    "# SVC"
   ]
  },
  {
   "cell_type": "code",
   "execution_count": 8,
   "id": "9dd0db5e",
   "metadata": {},
   "outputs": [],
   "source": [
    "base_model = make_pipeline(\n",
    "StandardScaler(),\n",
    "SVC()\n",
    ")\n",
    "bagging_model = BaggingClassifier(base_model, n_estimators=10, max_samples=0.5, max_features=0.5)"
   ]
  },
  {
   "cell_type": "code",
   "execution_count": 9,
   "id": "8a96019a",
   "metadata": {},
   "outputs": [
    {
     "name": "stdout",
     "output_type": "stream",
     "text": [
      "avg fit time: 0.0008006572723388671 (+/- 0.0016013145446777343\n",
      "avg score time: 0.005053281784057617 (+/- 0.005936786442530021\n",
      "avg test score: 0.9736376339077782 (+/- 0.014678541667933545\n"
     ]
    }
   ],
   "source": [
    "cross_val = cross_validate(\n",
    "estimator=base_model,\n",
    "X=cancer.data,\n",
    "y=cancer.target,\n",
    "cv=5\n",
    ")\n",
    "print('avg fit time: {} (+/- {}'.format(cross_val['fit_time'].mean(), cross_val['fit_time'].std()))\n",
    "print('avg score time: {} (+/- {}'.format(cross_val['score_time'].mean(), cross_val['score_time'].std()))\n",
    "print('avg test score: {} (+/- {}'.format(cross_val['test_score'].mean(), cross_val['test_score'].std()))"
   ]
  },
  {
   "cell_type": "code",
   "execution_count": 10,
   "id": "3260c6c7",
   "metadata": {},
   "outputs": [
    {
     "name": "stdout",
     "output_type": "stream",
     "text": [
      "avg fit time: 0.023660993576049803 (+/- 0.006844896303823371\n",
      "avg score time: 0.00803980827331543 (+/- 0.008370226207077234\n",
      "avg test score: 0.95960254618848 (+/- 0.02912376031873467\n"
     ]
    }
   ],
   "source": [
    "cross_val = cross_validate(\n",
    "estimator=bagging_model,\n",
    "X=cancer.data,\n",
    "y=cancer.target,\n",
    "cv=5\n",
    ")\n",
    "print('avg fit time: {} (+/- {}'.format(cross_val['fit_time'].mean(), cross_val['fit_time'].std()))\n",
    "print('avg score time: {} (+/- {}'.format(cross_val['score_time'].mean(), cross_val['score_time'].std()))\n",
    "print('avg test score: {} (+/- {}'.format(cross_val['test_score'].mean(), cross_val['test_score'].std()))"
   ]
  },
  {
   "cell_type": "markdown",
   "id": "809a8764",
   "metadata": {},
   "source": [
    "# Decision Tree"
   ]
  },
  {
   "cell_type": "code",
   "execution_count": 11,
   "id": "05078414",
   "metadata": {},
   "outputs": [],
   "source": [
    "base_model = make_pipeline(\n",
    "StandardScaler(),\n",
    "DecisionTreeClassifier()\n",
    ")\n",
    "bagging_model = BaggingClassifier(base_model, n_estimators=10, max_samples=0.5, max_features=0.5)"
   ]
  },
  {
   "cell_type": "code",
   "execution_count": 12,
   "id": "6916caf0",
   "metadata": {},
   "outputs": [
    {
     "name": "stdout",
     "output_type": "stream",
     "text": [
      "avg fit time: 0.006086921691894532 (+/- 0.006861260841294822\n",
      "avg score time: 0.00019936561584472657 (+/- 0.00039873123168945315\n",
      "avg test score: 0.9138643067846608 (+/- 0.01040959348294324\n"
     ]
    }
   ],
   "source": [
    "cross_val = cross_validate(\n",
    "estimator=base_model,\n",
    "X=cancer.data,\n",
    "y=cancer.target,\n",
    "cv=5\n",
    ")\n",
    "print('avg fit time: {} (+/- {}'.format(cross_val['fit_time'].mean(), cross_val['fit_time'].std()))\n",
    "print('avg score time: {} (+/- {}'.format(cross_val['score_time'].mean(), cross_val['score_time'].std()))\n",
    "print('avg test score: {} (+/- {}'.format(cross_val['test_score'].mean(), cross_val['test_score'].std()))"
   ]
  },
  {
   "cell_type": "code",
   "execution_count": 13,
   "id": "bd4b0090",
   "metadata": {},
   "outputs": [
    {
     "name": "stdout",
     "output_type": "stream",
     "text": [
      "avg fit time: 0.017269325256347657 (+/- 0.008274446966331313\n",
      "avg score time: 0.0064754486083984375 (+/- 0.007532852926382371\n",
      "avg test score: 0.9525539512498058 (+/- 0.021186042223407395\n"
     ]
    }
   ],
   "source": [
    "cross_val = cross_validate(\n",
    "estimator=bagging_model,\n",
    "X=cancer.data,\n",
    "y=cancer.target,\n",
    "cv=5\n",
    ")\n",
    "print('avg fit time: {} (+/- {}'.format(cross_val['fit_time'].mean(), cross_val['fit_time'].std()))\n",
    "print('avg score time: {} (+/- {}'.format(cross_val['score_time'].mean(), cross_val['score_time'].std()))\n",
    "print('avg test score: {} (+/- {}'.format(cross_val['test_score'].mean(), cross_val['test_score'].std()))"
   ]
  },
  {
   "cell_type": "markdown",
   "id": "6af53867",
   "metadata": {},
   "source": [
    "# Ramdom Forest"
   ]
  },
  {
   "cell_type": "code",
   "execution_count": 14,
   "id": "05616f0f",
   "metadata": {},
   "outputs": [],
   "source": [
    "from sklearn.ensemble import RandomForestClassifier"
   ]
  },
  {
   "cell_type": "code",
   "execution_count": 15,
   "id": "35b7c9af",
   "metadata": {},
   "outputs": [],
   "source": [
    "model = make_pipeline(\n",
    "StandardScaler(),\n",
    "RandomForestClassifier()\n",
    ")"
   ]
  },
  {
   "cell_type": "code",
   "execution_count": 16,
   "id": "aeb74149",
   "metadata": {},
   "outputs": [
    {
     "name": "stdout",
     "output_type": "stream",
     "text": [
      "avg fit time: 0.07700252532958984 (+/- 0.0057800200847400755\n",
      "avg score time: 0.009603261947631836 (+/- 0.007852016466864698\n",
      "avg test score: 0.9666666666666668 (+/- 0.02108185106778919\n"
     ]
    }
   ],
   "source": [
    "cross_val = cross_validate(\n",
    "estimator=model,\n",
    "X=iris.data,\n",
    "y=iris.target,\n",
    "cv=5\n",
    ")\n",
    "print('avg fit time: {} (+/- {}'.format(cross_val['fit_time'].mean(), cross_val['fit_time'].std()))\n",
    "print('avg score time: {} (+/- {}'.format(cross_val['score_time'].mean(), cross_val['score_time'].std()))\n",
    "print('avg test score: {} (+/- {}'.format(cross_val['test_score'].mean(), cross_val['test_score'].std()))"
   ]
  },
  {
   "cell_type": "code",
   "execution_count": 17,
   "id": "af9581cd",
   "metadata": {},
   "outputs": [
    {
     "name": "stdout",
     "output_type": "stream",
     "text": [
      "avg fit time: 0.08643817901611328 (+/- 0.005017632653989917\n",
      "avg score time: 0.0033447742462158203 (+/- 0.006689548492431641\n",
      "avg test score: 0.9777777777777779 (+/- 0.02721655269759088\n"
     ]
    }
   ],
   "source": [
    "cross_val = cross_validate(\n",
    "estimator=model,\n",
    "X=wine.data,\n",
    "y=wine.target,\n",
    "cv=5\n",
    ")\n",
    "print('avg fit time: {} (+/- {}'.format(cross_val['fit_time'].mean(), cross_val['fit_time'].std()))\n",
    "print('avg score time: {} (+/- {}'.format(cross_val['score_time'].mean(), cross_val['score_time'].std()))\n",
    "print('avg test score: {} (+/- {}'.format(cross_val['test_score'].mean(), cross_val['test_score'].std()))"
   ]
  },
  {
   "cell_type": "code",
   "execution_count": 18,
   "id": "d7837ae9",
   "metadata": {},
   "outputs": [
    {
     "name": "stdout",
     "output_type": "stream",
     "text": [
      "avg fit time: 0.11757369041442871 (+/- 0.0014101251202199808\n",
      "avg score time: 0.006686592102050781 (+/- 0.008189383827149864\n",
      "avg test score: 0.9631113181183046 (+/- 0.020284543682207744\n"
     ]
    }
   ],
   "source": [
    "cross_val = cross_validate(\n",
    "estimator=model,\n",
    "X=cancer.data,\n",
    "y=cancer.target,\n",
    "cv=5\n",
    ")\n",
    "print('avg fit time: {} (+/- {}'.format(cross_val['fit_time'].mean(), cross_val['fit_time'].std()))\n",
    "print('avg score time: {} (+/- {}'.format(cross_val['score_time'].mean(), cross_val['score_time'].std()))\n",
    "print('avg test score: {} (+/- {}'.format(cross_val['test_score'].mean(), cross_val['test_score'].std()))"
   ]
  },
  {
   "cell_type": "markdown",
   "id": "5273a839",
   "metadata": {},
   "source": [
    "# AdaBoost"
   ]
  },
  {
   "cell_type": "markdown",
   "id": "3c9cd202",
   "metadata": {},
   "source": [
    "- 대표적인 부스팅 알고리즘\n",
    "- 일련의 약한 모델들을 학습\n",
    "- 수정된 버전의 데이터를 반복 학습(가중치가 적용된)\n",
    "- 가중치 투표(또는 합)을 통해 각 모델의 예측 값을 결합\n",
    "- 첫 단계에서는 원본 데이터를 학습하고 연속적인 반복마다 개별샘플에 대한 가중치가 수정되고 다시 모델이 학습\n",
    " - 잘못 예측된 샘플은 가중치 증가, 올바르게 예측된 샘플은 가중치 감소\n",
    " - 각각의 약한 모델들은 예측하기 어려운 샘플에 집중하게 됨"
   ]
  },
  {
   "cell_type": "code",
   "execution_count": 19,
   "id": "42f085a1",
   "metadata": {},
   "outputs": [],
   "source": [
    "from sklearn.ensemble import AdaBoostClassifier"
   ]
  },
  {
   "cell_type": "code",
   "execution_count": 20,
   "id": "2ec192e9",
   "metadata": {},
   "outputs": [],
   "source": [
    " model = make_pipeline(\n",
    "StandardScaler(),\n",
    "AdaBoostClassifier()\n",
    ")"
   ]
  },
  {
   "cell_type": "code",
   "execution_count": 21,
   "id": "3b0e40dc",
   "metadata": {},
   "outputs": [
    {
     "name": "stdout",
     "output_type": "stream",
     "text": [
      "avg fit time: 0.03605484962463379 (+/- 0.008051033319696293\n",
      "avg score time: 0.010373830795288086 (+/- 0.006616291805016494\n",
      "avg test score: 0.9466666666666667 (+/- 0.03399346342395189\n"
     ]
    }
   ],
   "source": [
    "cross_val = cross_validate(\n",
    "estimator=model,\n",
    "X=iris.data,\n",
    "y=iris.target,\n",
    "cv=5\n",
    ")\n",
    "print('avg fit time: {} (+/- {}'.format(cross_val['fit_time'].mean(), cross_val['fit_time'].std()))\n",
    "print('avg score time: {} (+/- {}'.format(cross_val['score_time'].mean(), cross_val['score_time'].std()))\n",
    "print('avg test score: {} (+/- {}'.format(cross_val['test_score'].mean(), cross_val['test_score'].std()))"
   ]
  },
  {
   "cell_type": "code",
   "execution_count": 22,
   "id": "78dc991c",
   "metadata": {},
   "outputs": [
    {
     "name": "stdout",
     "output_type": "stream",
     "text": [
      "avg fit time: 0.042772865295410155 (+/- 0.007399740225808607\n",
      "avg score time: 0.007245540618896484 (+/- 0.007076321215085155\n",
      "avg test score: 0.8085714285714285 (+/- 0.16822356718459935\n"
     ]
    }
   ],
   "source": [
    "cross_val = cross_validate(\n",
    "estimator=model,\n",
    "X=wine.data,\n",
    "y=wine.target,\n",
    "cv=5\n",
    ")\n",
    "print('avg fit time: {} (+/- {}'.format(cross_val['fit_time'].mean(), cross_val['fit_time'].std()))\n",
    "print('avg score time: {} (+/- {}'.format(cross_val['score_time'].mean(), cross_val['score_time'].std()))\n",
    "print('avg test score: {} (+/- {}'.format(cross_val['test_score'].mean(), cross_val['test_score'].std()))"
   ]
  },
  {
   "cell_type": "code",
   "execution_count": 23,
   "id": "9d59a4b0",
   "metadata": {},
   "outputs": [
    {
     "name": "stdout",
     "output_type": "stream",
     "text": [
      "avg fit time: 0.08270225524902344 (+/- 0.008820080078603156\n",
      "avg score time: 0.009659004211425782 (+/- 0.007737768090349721\n",
      "avg test score: 0.9718677224033534 (+/- 0.0195587047134823\n"
     ]
    }
   ],
   "source": [
    "cross_val = cross_validate(\n",
    "estimator=model,\n",
    "X=cancer.data,\n",
    "y=cancer.target,\n",
    "cv=5\n",
    ")\n",
    "print('avg fit time: {} (+/- {}'.format(cross_val['fit_time'].mean(), cross_val['fit_time'].std()))\n",
    "print('avg score time: {} (+/- {}'.format(cross_val['score_time'].mean(), cross_val['score_time'].std()))\n",
    "print('avg test score: {} (+/- {}'.format(cross_val['test_score'].mean(), cross_val['test_score'].std()))"
   ]
  },
  {
   "cell_type": "markdown",
   "id": "3496f7fc",
   "metadata": {},
   "source": [
    "# Voting Classifier"
   ]
  },
  {
   "cell_type": "markdown",
   "id": "1e9eeda9",
   "metadata": {},
   "source": [
    "- 서로 다른 모델들의 결과를 투표를 통해 결합\n",
    "- 두가지 방법으로 투표 가능\n",
    " - 가장 많이 예측된 클래스를 정답으로 채택(hard voting)\n",
    " - 예측된 확률의 가중치 평균(soft voting)"
   ]
  },
  {
   "cell_type": "code",
   "execution_count": 24,
   "id": "0f065362",
   "metadata": {},
   "outputs": [],
   "source": [
    "from sklearn.ensemble import VotingClassifier\n",
    "from sklearn.model_selection import cross_val_score\n",
    "from sklearn.naive_bayes import GaussianNB"
   ]
  },
  {
   "cell_type": "code",
   "execution_count": 25,
   "id": "c8a22da8",
   "metadata": {},
   "outputs": [],
   "source": [
    "# hard voting\n",
    "model1 = SVC()\n",
    "model2 = GaussianNB()\n",
    "model3 = RandomForestClassifier()\n",
    "vote_model = VotingClassifier(\n",
    "    estimators=[('svc', model1), ('naive', model2), ('forest', model3)],\n",
    "    voting='hard'\n",
    ")"
   ]
  },
  {
   "cell_type": "code",
   "execution_count": 26,
   "id": "dfdf7410",
   "metadata": {},
   "outputs": [
    {
     "name": "stdout",
     "output_type": "stream",
     "text": [
      "<class 'sklearn.svm._classes.SVC'>\n",
      "<class 'sklearn.naive_bayes.GaussianNB'>\n",
      "<class 'sklearn.ensemble._forest.RandomForestClassifier'>\n",
      "<class 'sklearn.ensemble._voting.VotingClassifier'>\n"
     ]
    }
   ],
   "source": [
    "for model in (model1, model2, model3, vote_model):\n",
    "    print(type(model))"
   ]
  },
  {
   "cell_type": "code",
   "execution_count": 28,
   "id": "33955415",
   "metadata": {},
   "outputs": [
    {
     "name": "stdout",
     "output_type": "stream",
     "text": [
      "SVC'>\n",
      "GaussianNB'>\n",
      "RandomForestClassifier'>\n",
      "VotingClassifier'>\n"
     ]
    }
   ],
   "source": [
    "for model in (model1, model2, model3, vote_model):\n",
    "    print(str(type(model)).split('.')[-1])"
   ]
  },
  {
   "cell_type": "code",
   "execution_count": 29,
   "id": "4cdb7039",
   "metadata": {},
   "outputs": [
    {
     "name": "stdout",
     "output_type": "stream",
     "text": [
      "Accuracy: 0.97 (+/- 0.02) [SVC]\n",
      "Accuracy: 0.95 (+/- 0.03) [GaussianNB]\n",
      "Accuracy: 0.96 (+/- 0.02) [RandomForestClassifier]\n",
      "Accuracy: 0.97 (+/- 0.02) [VotingClassifier]\n"
     ]
    }
   ],
   "source": [
    "for model in (model1, model2, model3, vote_model):\n",
    "    model_name = str(type(model)).split('.')[-1][:-2]\n",
    "    scores = cross_val_score(model, iris.data, iris.target, cv=5)\n",
    "    print('Accuracy: %.2f (+/- %.2f) [%s]' % (scores.mean(), scores.std(), model_name))\n"
   ]
  },
  {
   "cell_type": "code",
   "execution_count": 30,
   "id": "175ca47d",
   "metadata": {},
   "outputs": [],
   "source": [
    "# soft voting\n",
    "model1 = SVC(probability=True)\n",
    "model2 = GaussianNB()\n",
    "model3 = RandomForestClassifier()\n",
    "vote_model = VotingClassifier(\n",
    "    estimators=[('svc', model1), ('naive', model2), ('forest', model3)],\n",
    "    voting='soft',\n",
    "    weights=[2, 1, 2]\n",
    ")\n"
   ]
  },
  {
   "cell_type": "code",
   "execution_count": 31,
   "id": "197cdd0e",
   "metadata": {},
   "outputs": [
    {
     "name": "stdout",
     "output_type": "stream",
     "text": [
      "Accuracy: 0.97 (+/- 0.02) [SVC]\n",
      "Accuracy: 0.95 (+/- 0.03) [GaussianNB]\n",
      "Accuracy: 0.97 (+/- 0.02) [RandomForestClassifier]\n",
      "Accuracy: 0.96 (+/- 0.02) [VotingClassifier]\n"
     ]
    }
   ],
   "source": [
    "for model in (model1, model2, model3, vote_model):\n",
    "    model_name = str(type(model)).split('.')[-1][:-2]\n",
    "    scores = cross_val_score(model, iris.data, iris.target, cv=5)\n",
    "    print('Accuracy: %.2f (+/- %.2f) [%s]' % (scores.mean(), scores.std(), model_name))"
   ]
  },
  {
   "cell_type": "markdown",
   "id": "cb008d31",
   "metadata": {},
   "source": [
    "# XGBoost"
   ]
  },
  {
   "cell_type": "markdown",
   "id": "8283855b",
   "metadata": {},
   "source": [
    "- 트리 기반의 앙상블 기법\n",
    "- 분류에 있어서 다른 알고리즘보다 좋은 예측 성능을 보여줌\n",
    "- XGBoost는 GBM 기반이지만, GBM의 단점인 느린 수행 시간과 과적합 규제 부재 등의 문제를 해결\n",
    "- 병렬 CPU 환경에서 빠르게 학습 가능\n",
    "- kaggle 도전 데이터 과학자에서 5년 연속 1위한 알고리즘\n"
   ]
  },
  {
   "cell_type": "code",
   "execution_count": 32,
   "id": "1b5e41b8",
   "metadata": {},
   "outputs": [
    {
     "name": "stdout",
     "output_type": "stream",
     "text": [
      "Collecting xgboost\n",
      "  Downloading xgboost-1.6.1-py3-none-win_amd64.whl (125.4 MB)\n",
      "Requirement already satisfied: scipy in c:\\users\\user\\anaconda3\\lib\\site-packages (from xgboost) (1.7.1)\n",
      "Requirement already satisfied: numpy in c:\\users\\user\\anaconda3\\lib\\site-packages (from xgboost) (1.20.3)\n",
      "Installing collected packages: xgboost\n",
      "Successfully installed xgboost-1.6.1\n"
     ]
    }
   ],
   "source": [
    "!pip install xgboost"
   ]
  },
  {
   "cell_type": "code",
   "execution_count": 33,
   "id": "0ee147c7",
   "metadata": {},
   "outputs": [],
   "source": [
    "from xgboost import XGBClassifier\n",
    "from xgboost import plot_importance\n",
    "from sklearn.metrics import accuracy_score, classification_report"
   ]
  },
  {
   "cell_type": "code",
   "execution_count": 34,
   "id": "dd18150b",
   "metadata": {},
   "outputs": [],
   "source": [
    "X_train, X_test, y_train, y_test = train_test_split(cancer.data, cancer.target, test_size=.2, random_state=123)"
   ]
  },
  {
   "cell_type": "code",
   "execution_count": 35,
   "id": "340d066e",
   "metadata": {},
   "outputs": [
    {
     "name": "stdout",
     "output_type": "stream",
     "text": [
      "[16:55:48] WARNING: C:/Users/Administrator/workspace/xgboost-win64_release_1.6.0/src/learner.cc:627: \n",
      "Parameters: { \"n_esimators\" } might not be used.\n",
      "\n",
      "  This could be a false alarm, with some parameters getting used by language bindings but\n",
      "  then being mistakenly passed down to XGBoost core, or some parameter actually being used\n",
      "  but getting flagged wrongly here. Please open an issue if you find any such cases.\n",
      "\n",
      "\n"
     ]
    },
    {
     "data": {
      "text/plain": [
       "XGBClassifier(base_score=0.5, booster='gbtree', callbacks=None,\n",
       "              colsample_bylevel=1, colsample_bynode=1, colsample_bytree=1,\n",
       "              early_stopping_rounds=None, enable_categorical=False,\n",
       "              eval_metric=None, gamma=0, gpu_id=-1, grow_policy='depthwise',\n",
       "              importance_type=None, interaction_constraints='',\n",
       "              learning_rate=0.1, max_bin=256, max_cat_to_onehot=4,\n",
       "              max_delta_step=0, max_depth=3, max_leaves=0, min_child_weight=1,\n",
       "              missing=nan, monotone_constraints='()', n_esimators=400,\n",
       "              n_estimators=100, n_jobs=0, num_parallel_tree=1, predictor='auto',\n",
       "              random_state=0, reg_alpha=0, ...)"
      ]
     },
     "execution_count": 35,
     "metadata": {},
     "output_type": "execute_result"
    }
   ],
   "source": [
    "xgbc = XGBClassifier(n_esimators=400, learning_rate=0.1, max_depth=3)\n",
    "xgbc.fit(X_train, y_train)"
   ]
  },
  {
   "cell_type": "code",
   "execution_count": 36,
   "id": "0e86f5ed",
   "metadata": {},
   "outputs": [
    {
     "data": {
      "image/png": "[encoded data removed]",
      "text/plain": [
       "<Figure size 432x288 with 1 Axes>"
      ]
     },
     "metadata": {
      "needs_background": "light"
     },
     "output_type": "display_data"
    }
   ],
   "source": [
    "# 중요 변수 확인 및 시각화 : y에 영향을 미치는 변수\n",
    "plot_importance(xgbc)\n",
    "plt.yticks(range(len(cancer.feature_names)), cancer.feature_names)\n",
    "plt.show()"
   ]
  },
  {
   "cell_type": "code",
   "execution_count": 37,
   "id": "18340631",
   "metadata": {},
   "outputs": [
    {
     "name": "stdout",
     "output_type": "stream",
     "text": [
      "0.9824561403508771\n"
     ]
    }
   ],
   "source": [
    "y_pred = xgbc.predict(X_test)\n",
    "print(accuracy_score(y_test, y_pred))"
   ]
  },
  {
   "cell_type": "code",
   "execution_count": 38,
   "id": "7dea5c1e",
   "metadata": {},
   "outputs": [
    {
     "name": "stdout",
     "output_type": "stream",
     "text": [
      "              precision    recall  f1-score   support\n",
      "\n",
      "           0       0.98      0.98      0.98        41\n",
      "           1       0.99      0.99      0.99        73\n",
      "\n",
      "    accuracy                           0.98       114\n",
      "   macro avg       0.98      0.98      0.98       114\n",
      "weighted avg       0.98      0.98      0.98       114\n",
      "\n"
     ]
    }
   ],
   "source": [
    "print(classification_report(y_test, y_pred))"
   ]
  }
 ],
 "metadata": {
  "kernelspec": {
   "display_name": "Python 3 (ipykernel)",
   "language": "python",
   "name": "python3"
  },
  "language_info": {
   "codemirror_mode": {
    "name": "ipython",
    "version": 3
   },
   "file_extension": ".py",
   "mimetype": "text/x-python",
   "name": "python",
   "nbconvert_exporter": "python",
   "pygments_lexer": "ipython3",
   "version": "3.9.7"
  }
 },
 "nbformat": 4,
 "nbformat_minor": 5
}
